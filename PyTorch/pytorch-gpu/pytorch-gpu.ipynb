{
 "cells": [
  {
   "cell_type": "markdown",
   "id": "a748c4a1",
   "metadata": {},
   "source": [
    "# CUDA\n",
    "\n",
    "CUDA is a parallel computing platform and programming model that makes using a GPU for general purpose computing simple and elegant. The developer still programs in the familiar C, C++, Fortran, or an ever expanding list of supported languages, and incorporates extensions of these languages in the form of a few basic keywords.\n",
    "\n",
    "These keywords let the developer express massive amounts of parallelism and direct the compiler to the portion of the application that maps to the GPU."
   ]
  },
  {
   "cell_type": "markdown",
   "id": "b92e7758",
   "metadata": {},
   "source": [
    "* PyTorch CUDA installation guide: https://pytorch.org/get-started/locally/\n",
    "* NVIDIA CUDA Toolkit: https://docs.nvidia.com/cuda/cuda-installation-guide-microsoft-windows/index.html\n",
    "* CUDA-capable GPU list:https://developer.nvidia.com/zh-cn/cuda-gpus\n",
    "* PyTorch CUDA sematics: https://pytorch.org/docs/stable/notes/cuda.html"
   ]
  },
  {
   "cell_type": "markdown",
   "id": "7e45e0e5",
   "metadata": {},
   "source": [
    "### Use pinned memory buffers\n",
    "\n",
    "Host to GPU copies are much faster when they originate from pinned (page-locked) memory. CPU tensors and storages expose a `pin_memory()` method, that returns a copy of the object, with data put in a pinned region.\n",
    "\n",
    "Also, once you pin a tensor or storage, you can use asynchronous GPU copies. Just pass an additional `non_blocking=True` argument to a `to()` or a `cuda()` call. This can be used to overlap data transfers with computation.\n",
    "\n",
    "You can make the DataLoader return batches placed in pinned memory by passing `pin_memory=True` to its constructor."
   ]
  },
  {
   "cell_type": "markdown",
   "id": "e9341f86",
   "metadata": {},
   "source": [
    "### Is CUDA available?"
   ]
  },
  {
   "cell_type": "code",
   "execution_count": null,
   "id": "18ced41c",
   "metadata": {},
   "outputs": [],
   "source": [
    "import torch\n",
    "torch.cuda.is_available()"
   ]
  },
  {
   "cell_type": "code",
   "execution_count": null,
   "id": "a030e38d",
   "metadata": {},
   "outputs": [],
   "source": [
    "## Get Id of default device\n",
    "torch.cuda.current_device()"
   ]
  },
  {
   "cell_type": "code",
   "execution_count": null,
   "id": "69577fe9",
   "metadata": {},
   "outputs": [],
   "source": [
    "torch.cuda.get_device_name(0) # Get name device with ID '0'"
   ]
  },
  {
   "cell_type": "code",
   "execution_count": null,
   "id": "77a9ae80",
   "metadata": {},
   "outputs": [],
   "source": [
    "# Returns the current GPU memory usage by \n",
    "# tensors in bytes for a given device\n",
    "torch.cuda.memory_allocated()"
   ]
  },
  {
   "cell_type": "code",
   "execution_count": null,
   "id": "550af270",
   "metadata": {},
   "outputs": [],
   "source": [
    "# Returns the current GPU memory managed by the\n",
    "# caching allocator in bytes for a given device\n",
    "torch.cuda.memory_reserved()"
   ]
  },
  {
   "cell_type": "markdown",
   "id": "a969bd2a",
   "metadata": {},
   "source": [
    "### Host tensor in GPU"
   ]
  },
  {
   "cell_type": "code",
   "execution_count": null,
   "id": "851404d3",
   "metadata": {},
   "outputs": [],
   "source": [
    "# GPU\n",
    "a = torch.FloatTensor([1., 2.]).cuda()\n",
    "a.device"
   ]
  },
  {
   "cell_type": "markdown",
   "id": "f4a00762",
   "metadata": {},
   "source": [
    "### Sending Models to GPU"
   ]
  },
  {
   "cell_type": "code",
   "execution_count": null,
   "id": "d4dba744",
   "metadata": {},
   "outputs": [],
   "source": [
    "import torch\n",
    "import torch.nn as nn\n",
    "import torch.nn.functional as F\n",
    "from torch.utils.data import Dataset, DataLoader\n",
    "from sklearn.model_selection import train_test_split\n",
    "\n",
    "import pandas as pd\n",
    "import matplotlib.pyplot as plt\n",
    "%matplotlib inline"
   ]
  },
  {
   "cell_type": "code",
   "execution_count": null,
   "id": "b809d559",
   "metadata": {},
   "outputs": [],
   "source": [
    "class Model(nn.Module):\n",
    "    def __init__(self, in_features=4, h1=8, h2=9, out_features=3):\n",
    "        super().__init__()\n",
    "        self.fc1 = nn.Linear(in_features,h1)    # input layer\n",
    "        self.fc2 = nn.Linear(h1, h2)            # hidden layer\n",
    "        self.out = nn.Linear(h2, out_features)  # output layer\n",
    "        \n",
    "    def forward(self, x):\n",
    "        x = F.relu(self.fc1(x))\n",
    "        x = F.relu(self.fc2(x))\n",
    "        x = self.out(x)\n",
    "        return x"
   ]
  },
  {
   "cell_type": "code",
   "execution_count": null,
   "id": "61b2494f",
   "metadata": {},
   "outputs": [],
   "source": [
    "torch.manual_seed(32)\n",
    "model = Model()"
   ]
  },
  {
   "cell_type": "code",
   "execution_count": null,
   "id": "7f982bd6",
   "metadata": {},
   "outputs": [],
   "source": [
    "# From the discussions here: discuss.pytorch.org/t/how-to-check-if-model-is-on-cuda\n",
    "next(model.parameters()).is_cuda"
   ]
  },
  {
   "cell_type": "code",
   "execution_count": null,
   "id": "426a62be",
   "metadata": {},
   "outputs": [],
   "source": [
    "gpumodel = model.cuda()"
   ]
  },
  {
   "cell_type": "code",
   "execution_count": null,
   "id": "f93f5bab",
   "metadata": {},
   "outputs": [],
   "source": [
    "next(gpumodel.parameters()).is_cuda"
   ]
  },
  {
   "cell_type": "markdown",
   "id": "a95f0888",
   "metadata": {},
   "source": [
    "### Convert Tensors to .cuda() tensors"
   ]
  },
  {
   "cell_type": "code",
   "execution_count": null,
   "id": "e7d1e2d6",
   "metadata": {},
   "outputs": [],
   "source": [
    "df = pd.read_csv('./iris.csv')\n",
    "X = df.drop('target',axis=1).values\n",
    "y = df['target'].values\n",
    "X_train, X_test, y_train, y_test = train_test_split(X,y,test_size=0.2,random_state=33)"
   ]
  },
  {
   "cell_type": "code",
   "execution_count": null,
   "id": "5b68e518",
   "metadata": {},
   "outputs": [],
   "source": [
    "X_train = torch.FloatTensor(X_train).cuda()\n",
    "X_test = torch.FloatTensor(X_test).cuda()\n",
    "y_train = torch.LongTensor(y_train).cuda()\n",
    "y_test = torch.LongTensor(y_test).cuda()"
   ]
  },
  {
   "cell_type": "code",
   "execution_count": null,
   "id": "a71e3103",
   "metadata": {},
   "outputs": [],
   "source": [
    "trainloader = DataLoader(X_train, batch_size=60, shuffle=True)\n",
    "testloader = DataLoader(X_test, batch_size=60, shuffle=False)"
   ]
  },
  {
   "cell_type": "code",
   "execution_count": null,
   "id": "ada439e4",
   "metadata": {},
   "outputs": [],
   "source": [
    "criterion = nn.CrossEntropyLoss()\n",
    "optimizer = torch.optim.Adam(model.parameters(), lr=0.01)"
   ]
  },
  {
   "cell_type": "code",
   "execution_count": null,
   "id": "d0d18605",
   "metadata": {},
   "outputs": [],
   "source": [
    "import time\n",
    "epochs = 100\n",
    "losses = []\n",
    "start = time.time()\n",
    "for i in range(epochs):\n",
    "    i+=1\n",
    "    y_pred = gpumodel.forward(X_train)\n",
    "    loss = criterion(y_pred, y_train)\n",
    "    losses.append(loss)\n",
    "    \n",
    "    # a neat trick to save screen space:\n",
    "    if i%10 == 1:\n",
    "        print(f'epoch: {i:2}  loss: {loss.item():10.8f}')\n",
    "\n",
    "    optimizer.zero_grad()\n",
    "    loss.backward()\n",
    "    optimizer.step()\n",
    "    \n",
    "print(f'TOTAL TRAINING TIME: {time.time()-start}')"
   ]
  }
 ],
 "metadata": {
  "kernelspec": {
   "display_name": "Python 3 (ipykernel)",
   "language": "python",
   "name": "python3"
  },
  "language_info": {
   "codemirror_mode": {
    "name": "ipython",
    "version": 3
   },
   "file_extension": ".py",
   "mimetype": "text/x-python",
   "name": "python",
   "nbconvert_exporter": "python",
   "pygments_lexer": "ipython3",
   "version": "3.7.3"
  }
 },
 "nbformat": 4,
 "nbformat_minor": 5
}
