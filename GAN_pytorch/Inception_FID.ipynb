{
 "cells": [
  {
   "cell_type": "markdown",
   "id": "c1ff8d4e",
   "metadata": {},
   "source": [
    "# Evaluating GANs\n",
    "\n",
    "## Challenges With Evaluating GANs\n",
    "\n",
    "#### Loss is Uninformative of Performance\n",
    "One aspect that makes evaluating GANs challenging is that the loss tells us little about their performance. Unlike with classifiers, where a low loss on a test set indicates superior performance, a low loss for the generator or discriminator suggests that learning has stopped. \n",
    "\n",
    "\n",
    "#### No Clear Non-human Metric\n",
    "If you define the goal of a GAN as \"generating images which look real to people\" then it's technically possible to measure this directly: [you can ask people to act as a discriminator](https://arxiv.org/abs/1904.01121). However, this takes significant time and money so ideally you can use a proxy for this. There is also no \"perfect\" discriminator that can differentiate reals from fakes - if there were, a lot of machine learning tasks would be solved ;)\n",
    "\n",
    "In this notebook, you will implement Fréchet Inception Distance, one method which aims to solve these issues. "
   ]
  },
  {
   "cell_type": "markdown",
   "id": "baefae6f",
   "metadata": {},
   "source": [
    "## Getting Started\n",
    "For this notebook, you will again be using [CelebA](http://mmlab.ie.cuhk.edu.hk/projects/CelebA.html). You will start by loading a pre-trained generator which has been trained on CelebA."
   ]
  },
  {
   "cell_type": "code",
   "execution_count": null,
   "id": "4b8f3d45",
   "metadata": {},
   "outputs": [],
   "source": [
    "import torch\n",
    "import numpy as np\n",
    "from torch import nn\n",
    "from tqdm.auto import tqdm\n",
    "from torchvision import transforms\n",
    "from torchvision.datasets import CelebA\n",
    "from torchvision.utils import make_grid\n",
    "from torch.utils.data import DataLoader\n",
    "import matplotlib.pyplot as plt\n",
    "torch.manual_seed(0) # Set for our testing purposes, please do not change!\n",
    "\n",
    "class Generator(nn.Module):\n",
    "    '''\n",
    "    Generator Class\n",
    "    Values:\n",
    "        z_dim: the dimension of the noise vector, a scalar\n",
    "        im_chan: the number of channels in the images, fitted for the dataset used, a scalar\n",
    "              (CelebA is rgb, so 3 is your default)\n",
    "        hidden_dim: the inner dimension, a scalar\n",
    "    '''\n",
    "    def __init__(self, z_dim=10, im_chan=3, hidden_dim=64):\n",
    "        super(Generator, self).__init__()\n",
    "        self.z_dim = z_dim\n",
    "        # Build the neural network\n",
    "        self.gen = nn.Sequential(\n",
    "            self.make_gen_block(z_dim, hidden_dim * 8),\n",
    "            self.make_gen_block(hidden_dim * 8, hidden_dim * 4),\n",
    "            self.make_gen_block(hidden_dim * 4, hidden_dim * 2),\n",
    "            self.make_gen_block(hidden_dim * 2, hidden_dim),\n",
    "            self.make_gen_block(hidden_dim, im_chan, kernel_size=4, final_layer=True),\n",
    "        )\n",
    "\n",
    "    def make_gen_block(self, input_channels, output_channels, kernel_size=3, stride=2, final_layer=False):\n",
    "        '''\n",
    "        Function to return a sequence of operations corresponding to a generator block of DCGAN;\n",
    "        a transposed convolution, a batchnorm (except in the final layer), and an activation.\n",
    "        Parameters:\n",
    "            input_channels: how many channels the input feature representation has\n",
    "            output_channels: how many channels the output feature representation should have\n",
    "            kernel_size: the size of each convolutional filter, equivalent to (kernel_size, kernel_size)\n",
    "            stride: the stride of the convolution\n",
    "            final_layer: a boolean, true if it is the final layer and false otherwise \n",
    "                      (affects activation and batchnorm)\n",
    "        '''\n",
    "        if not final_layer:\n",
    "            return nn.Sequential(\n",
    "                nn.ConvTranspose2d(input_channels, output_channels, kernel_size, stride),\n",
    "                nn.BatchNorm2d(output_channels),\n",
    "                nn.ReLU(inplace=True),\n",
    "            )\n",
    "        else:\n",
    "            return nn.Sequential(\n",
    "                nn.ConvTranspose2d(input_channels, output_channels, kernel_size, stride),\n",
    "                nn.Tanh(),\n",
    "            )\n",
    "\n",
    "    def forward(self, noise):\n",
    "        '''\n",
    "        Function for completing a forward pass of the generator: Given a noise tensor, \n",
    "        returns generated images.\n",
    "        Parameters:\n",
    "            noise: a noise tensor with dimensions (n_samples, z_dim)\n",
    "        '''\n",
    "        x = noise.view(len(noise), self.z_dim, 1, 1)\n",
    "        return self.gen(x)\n",
    "\n",
    "def get_noise(n_samples, z_dim, device='cpu'):\n",
    "    '''\n",
    "    Function for creating noise vectors: Given the dimensions (n_samples, z_dim)\n",
    "    creates a tensor of that shape filled with random numbers from the normal distribution.\n",
    "    Parameters:\n",
    "        n_samples: the number of samples to generate, a scalar\n",
    "        z_dim: the dimension of the noise vector, a scalar\n",
    "        device: the device type\n",
    "    '''\n",
    "    return torch.randn(n_samples, z_dim, device=device)"
   ]
  },
  {
   "cell_type": "markdown",
   "id": "0f0202ce",
   "metadata": {},
   "source": [
    "## Loading the Pre-trained Model\n",
    "\n",
    "Now, you can set the arguments for the model and load the dataset:\n",
    "  *   z_dim: the dimension of the noise vector\n",
    "  *   image_size: the image size of the input to Inception (more details in the following section)\n",
    "  *   device: the device type"
   ]
  },
  {
   "cell_type": "code",
   "execution_count": null,
   "id": "16035012",
   "metadata": {},
   "outputs": [],
   "source": [
    "z_dim = 64\n",
    "image_size = 299\n",
    "device = 'cuda'\n",
    "\n",
    "transform = transforms.Compose([\n",
    "    transforms.Resize(image_size),\n",
    "    transforms.CenterCrop(image_size),\n",
    "    transforms.ToTensor(),\n",
    "    transforms.Normalize((0.5, 0.5, 0.5), (0.5, 0.5, 0.5)),\n",
    "])\n",
    "\n",
    "in_coursera = True # Set this to false if you're running this outside Coursera\n",
    "if in_coursera:\n",
    "    import numpy as np\n",
    "    data = torch.Tensor(np.load('fid_images_tensor.npz', allow_pickle=True)['arr_0'])\n",
    "    dataset = torch.utils.data.TensorDataset(data, data)\n",
    "else:\n",
    "    dataset = CelebA(\".\", download=True, transform=transform)"
   ]
  },
  {
   "cell_type": "code",
   "execution_count": null,
   "id": "2b4bf8ba",
   "metadata": {},
   "outputs": [],
   "source": [
    "gen = Generator(z_dim).to(device)\n",
    "gen.load_state_dict(torch.load(f\"pretrained_celeba.pth\", map_location=torch.device(device))[\"gen\"])\n",
    "gen = gen.eval()"
   ]
  },
  {
   "cell_type": "markdown",
   "id": "19364738",
   "metadata": {},
   "source": [
    "## Inception-v3 Network\n",
    "Inception-V3 is a neural network trained on [ImageNet](http://www.image-net.org/) to classify objects. You may recall from the lectures that ImageNet has over 1 million images to train on. As a result, Inception-V3 does a good job detecting features and classifying images. Here, you will load Inception-V3 as `inception_model`.\n",
    "\n",
    "<!--  \n",
    "In the past, people would use a pretrained Inception network to identify the classes of the objects generated by a GAN and measure how similar the distribution of classes generated was to the true image (using KL divergence). This is known as inception score. \n",
    "\n",
    "However, there are many problems with this metric. Barratt and Sharma's 2018 \"[A Note on the Inception Score](https://arxiv.org/pdf/1801.01973.pdf)\" highlights many issues with this approach. Among them, they highlight its instability, its exploitability, and the widespread use of Inception Score on models not trained on ImageNet.  -->\n",
    "\n"
   ]
  },
  {
   "cell_type": "code",
   "execution_count": null,
   "id": "9c4be5ea",
   "metadata": {},
   "outputs": [],
   "source": [
    "from torchvision.models import inception_v3\n",
    "inception_model = inception_v3(pretrained=False)\n",
    "inception_model.load_state_dict(torch.load(\"inception_v3_google-1a9a5a14.pth\"))\n",
    "inception_model.to(device)\n",
    "inception_model = inception_model.eval() # Evaluation mode"
   ]
  },
  {
   "cell_type": "markdown",
   "id": "676c1e1a",
   "metadata": {},
   "source": [
    "## Fréchet Inception Distance\n",
    "\n",
    "Fréchet Inception Distance (FID) was proposed as an improvement over Inception Score and still uses the Inception-v3 network as part of its calculation. However, instead of using the classification labels of the Inception-v3 network, it uses the output from an earlier layer—the layer right before the labels. This is often called the feature layer. Research has shown that deep convolutional neural networks trained on difficult tasks, like classifying many classes, build increasingly sophisticated representations of features going deeper into the network. For example, the first few layers may learn to detect different kinds of edges and curves, while the later layers may have neurons that fire in response to human faces.\n",
    "\n",
    "To get the feature layer of a convolutional neural network, you can replace the final fully connected layer with an identity layer that simply returns whatever input it received, unchanged. This essentially removes the final classification layer and leaves you with the intermediate outputs from the layer before.\n"
   ]
  },
  {
   "cell_type": "code",
   "execution_count": null,
   "id": "29473d9a",
   "metadata": {},
   "outputs": [],
   "source": [
    "# You want to replace the final fully-connected (fc) layer \n",
    "# with an identity function layer to cut off the classification\n",
    "# layer and get a feature extractor\n",
    "#### START CODE HERE ####\n",
    "inception_model.fc = torch.nn.Identity()\n",
    "#### END CODE HERE ####"
   ]
  },
  {
   "cell_type": "code",
   "execution_count": null,
   "id": "3243d7e0",
   "metadata": {},
   "outputs": [],
   "source": [
    "# UNIT TEST\n",
    "test_identity_noise = torch.randn(100, 100)\n",
    "assert torch.equal(test_identity_noise, inception_model.fc(test_identity_noise))\n",
    "print(\"Success!\")"
   ]
  },
  {
   "cell_type": "markdown",
   "id": "4eae7523",
   "metadata": {},
   "source": [
    "### Fréchet Distance \n",
    "Fréchet distance uses the values from the feature layer for two sets of images, say reals and fakes, and compares different statistical properties between them to see how different they are. Specifically, Fréchet distance finds the shortest distance needed to walk along two lines, or two curves, simultaneously. The most intuitive explanation of Fréchet distance is as the \"minimum leash distance\" between two points. Imagine yourself and your dog, both moving along two curves. If you walked on one curve and your dog, attached to a leash, walked on the other at the same pace, what is the least amount of leash that you can give your dog so that you never need to give them more slack during your walk? Using this, the Fréchet distance measures the similarity between these two curves.\n",
    "\n",
    "The basic idea is similar for calculating the Fréchet distance between two probability distributions. You'll start by seeing what this looks like in one-dimensional, also called univariate, space."
   ]
  },
  {
   "cell_type": "markdown",
   "id": "eb468bc4",
   "metadata": {},
   "source": [
    "#### Univariate Fréchet Distance\n",
    "You can calculate the distance between two normal distributions $X$ and $Y$ with means $\\mu_X$ and $\\mu_Y$ and standard deviations $\\sigma_X$ and $\\sigma_Y$, as:\n",
    "\n",
    "$$d(X,Y) = (\\mu_X-\\mu_Y)^2 + (\\sigma_X-\\sigma_Y)^2 $$\n",
    "\n",
    "Pretty simple, right? Now you can see how it can be converted to be used in multi-dimensional, which is also called multivariate, space."
   ]
  },
  {
   "cell_type": "markdown",
   "id": "2da69685",
   "metadata": {},
   "source": [
    "#### Multivariate Fréchet Distance\n",
    "**Covariance**\n",
    "\n",
    "To find the Fréchet distance between two multivariate normal distributions, you first need to find the covariance instead of the standard deviation. The covariance, which is the multivariate version of variance (the square of standard deviation), is represented using a square matrix where the side length is equal to the number of dimensions. Since the feature vectors you will be using have 2048 values/weights, the covariance matrix will be 2048 x 2048. But for the sake of an example, this is a covariance matrix in a two-dimensional space:\n",
    "\n",
    "$\\Sigma = \\left(\\begin{array}{cc} \n",
    "1 & 0\\\\ \n",
    "0 & 1\n",
    "\\end{array}\\right)\n",
    "$\n",
    "\n",
    "The value at location $(i, j)$ corresponds to the covariance of vector $i$ with vector $j$. Since the covariance of $i$ with $j$ and $j$ with $i$ are equivalent, the matrix will always be symmetric with respect to the diagonal. The diagonal is the covariance of that element with itself. In this example, there are zeros everywhere except the diagonal. That means that the two dimensions are independent of one another, they are completely unrelated.\n",
    "\n",
    "The following code cell will visualize this matrix."
   ]
  },
  {
   "cell_type": "code",
   "execution_count": 4,
   "id": "600a6b2f",
   "metadata": {},
   "outputs": [
    {
     "data": {
      "image/png": "[encoded data removed]",
      "text/plain": [
       "<Figure size 432x432 with 3 Axes>"
      ]
     },
     "metadata": {
      "needs_background": "light"
     },
     "output_type": "display_data"
    }
   ],
   "source": [
    "import matplotlib.pyplot as plt\n",
    "from torch.distributions import MultivariateNormal\n",
    "import seaborn as sns # This is for visualization\n",
    "mean = torch.Tensor([0, 0]) # Center the mean at the origin\n",
    "covariance = torch.Tensor( # This matrix shows independence - there are only non-zero values on the diagonal\n",
    "    [[1, 0],\n",
    "     [0, 1]]\n",
    ")\n",
    "independent_dist = MultivariateNormal(mean, covariance)\n",
    "samples = independent_dist.sample((10000,))\n",
    "res = sns.jointplot(samples[:, 0], samples[:, 1], kind=\"kde\")\n",
    "plt.show()"
   ]
  },
  {
   "cell_type": "code",
   "execution_count": 5,
   "id": "457fcbf7",
   "metadata": {},
   "outputs": [
    {
     "data": {
      "image/png": "[encoded data removed]",
      "text/plain": [
       "<Figure size 432x432 with 3 Axes>"
      ]
     },
     "metadata": {
      "needs_background": "light"
     },
     "output_type": "display_data"
    }
   ],
   "source": [
    "mean = torch.Tensor([0, 0])\n",
    "covariance = torch.Tensor(\n",
    "    [[2, -1],\n",
    "     [-1, 2]]\n",
    ")\n",
    "covariant_dist = MultivariateNormal(mean, covariance)\n",
    "samples = covariant_dist.sample((10000,))\n",
    "res = sns.jointplot(samples[:, 0], samples[:, 1], kind=\"kde\")\n",
    "plt.show()"
   ]
  },
  {
   "cell_type": "markdown",
   "id": "d80755a6",
   "metadata": {},
   "source": [
    "**Formula**\n",
    "\n",
    "Based on the paper, \"[The Fréchet distance between multivariate normal distributions](https://core.ac.uk/reader/82269844)\" by Dowson and Landau (1982), the Fréchet distance between two multivariate normal distributions $X$ and $Y$ is:\n",
    "\n",
    "$d(X, Y) = \\Vert\\mu_X-\\mu_Y\\Vert^2 + \\mathrm{Tr}\\left(\\Sigma_X+\\Sigma_Y - 2 \\sqrt{\\Sigma_X \\Sigma_Y}\\right)$\n",
    "\n",
    "Similar to the formula for univariate Fréchet distance, you can calculate the distance between the means and the distance between the standard deviations. However, calculating the distance between the standard deviations changes slightly here, as it includes the matrix product and matrix square root. $\\mathrm{Tr}$ refers to the trace, the sum of the diagonal elements of a matrix."
   ]
  },
  {
   "cell_type": "code",
   "execution_count": null,
   "id": "c0123394",
   "metadata": {},
   "outputs": [],
   "source": [
    "import scipy\n",
    "# This is the matrix square root function you will be using\n",
    "def matrix_sqrt(x):\n",
    "    '''\n",
    "    Function that takes in a matrix and returns the square root of that matrix.\n",
    "    For an input matrix A, the output matrix B would be such that B @ B is the matrix A.\n",
    "    Parameters:\n",
    "        x: a matrix\n",
    "    '''\n",
    "    y = x.cpu().detach().numpy()\n",
    "    y = scipy.linalg.sqrtm(y)\n",
    "    return torch.Tensor(y.real, device=x.device)"
   ]
  },
  {
   "cell_type": "code",
   "execution_count": null,
   "id": "51739c7c",
   "metadata": {},
   "outputs": [],
   "source": [
    "def frechet_distance(mu_x, mu_y, sigma_x, sigma_y):\n",
    "    '''\n",
    "    Function for returning the Fréchet distance between multivariate Gaussians,\n",
    "    parameterized by their means and covariance matrices.\n",
    "    Parameters:\n",
    "        mu_x: the mean of the first Gaussian, (n_features)\n",
    "        mu_y: the mean of the second Gaussian, (n_features) \n",
    "        sigma_x: the covariance matrix of the first Gaussian, (n_features, n_features)\n",
    "        sigma_y: the covariance matrix of the second Gaussian, (n_features, n_features)\n",
    "    '''\n",
    "    #### START CODE HERE ####\n",
    "    return torch.pow(torch.norm(mu_x - mu_y),2) + torch.trace(sigma_x+sigma_y-2*matrix_sqrt(sigma_x @ sigma_y))\n",
    "    #### END CODE HERE ####"
   ]
  },
  {
   "cell_type": "code",
   "execution_count": null,
   "id": "d07da23e",
   "metadata": {},
   "outputs": [],
   "source": [
    "# UNIT TEST\n",
    "\n",
    "mean1 = torch.Tensor([0, 0]) # Center the mean at the origin\n",
    "covariance1 = torch.Tensor( # This matrix shows independence - there are only non-zero values on the diagonal\n",
    "    [[1, 0],\n",
    "     [0, 1]]\n",
    ")\n",
    "dist1 = MultivariateNormal(mean1, covariance1)\n",
    "\n",
    "mean2 = torch.Tensor([0, 0]) # Center the mean at the origin\n",
    "covariance2 = torch.Tensor( # This matrix shows dependence \n",
    "    [[2, -1],\n",
    "     [-1, 2]]\n",
    ")\n",
    "dist2 = MultivariateNormal(mean2, covariance2)\n",
    "\n",
    "assert torch.isclose(\n",
    "    frechet_distance(\n",
    "        dist1.mean, dist2.mean,\n",
    "        dist1.covariance_matrix, dist2.covariance_matrix\n",
    "    ),\n",
    "    4 - 2 * torch.sqrt(torch.tensor(3.))\n",
    ")\n",
    "\n",
    "assert (frechet_distance(\n",
    "        dist1.mean, dist1.mean,\n",
    "        dist1.covariance_matrix, dist1.covariance_matrix\n",
    "    ).item() == 0)\n",
    "\n",
    "print(\"Success!\")"
   ]
  },
  {
   "cell_type": "markdown",
   "id": "1c031e16",
   "metadata": {},
   "source": [
    "## Putting it all together!\n",
    "Now, you can apply FID to your generator from earlier.\n",
    "\n",
    "You will start by defining a bit of helper code to preprocess the image for the Inception-v3 network:\n",
    "<!-- This isn't exactly what FID is meant for, since inception scores expect a natural image, but it should give a rough idea of the diversity and quality of your images.  [TODO: move to bottom since image net is trained on nature (cat, dog) images, fidelity (quality)] -->"
   ]
  },
  {
   "cell_type": "code",
   "execution_count": null,
   "id": "5235c61e",
   "metadata": {},
   "outputs": [],
   "source": [
    "def preprocess(img):\n",
    "    img = torch.nn.functional.interpolate(img, size=(299, 299), mode='bilinear', align_corners=False)\n",
    "    return img\n",
    "\n",
    "import numpy as np\n",
    "def get_covariance(features):\n",
    "    return torch.Tensor(np.cov(features.detach().numpy(), rowvar=False))"
   ]
  },
  {
   "cell_type": "markdown",
   "id": "0bb89035",
   "metadata": {},
   "source": [
    "Finally, you can use the pre-trained Inception-v3 model to compute features of the real and fake images. With these features, you can then get the covariance and means of these features across many samples. \n",
    "\n",
    "First, you get the features of the real and fake images using the Inception-v3 model:"
   ]
  },
  {
   "cell_type": "code",
   "execution_count": null,
   "id": "a547778c",
   "metadata": {},
   "outputs": [],
   "source": [
    "fake_features_list = []\n",
    "real_features_list = []\n",
    "\n",
    "gen.eval()\n",
    "n_samples = 512 # The total number of samples\n",
    "batch_size = 4 # Samples per iteration\n",
    "\n",
    "dataloader = DataLoader(\n",
    "    dataset,\n",
    "    batch_size=batch_size,\n",
    "    shuffle=True)\n",
    "\n",
    "cur_samples = 0\n",
    "with torch.no_grad(): # You don't need to calculate gradients here, so you do this to save memory\n",
    "    try:\n",
    "        for real_example, _ in tqdm(dataloader, total=n_samples // batch_size): # Go by batch\n",
    "            real_samples = real_example\n",
    "            real_features = inception_model(real_samples.to(device)).detach().to('cpu') # Move features to CPU\n",
    "            real_features_list.append(real_features)\n",
    "\n",
    "            fake_samples = get_noise(len(real_example), z_dim).to(device)\n",
    "            fake_samples = preprocess(gen(fake_samples))\n",
    "            fake_features = inception_model(fake_samples.to(device)).detach().to('cpu')\n",
    "            fake_features_list.append(fake_features)\n",
    "            cur_samples += len(real_samples)\n",
    "            if cur_samples >= n_samples:\n",
    "                break\n",
    "    except:\n",
    "        print(\"Error in loop\")"
   ]
  },
  {
   "cell_type": "code",
   "execution_count": null,
   "id": "c7d37499",
   "metadata": {},
   "outputs": [],
   "source": [
    "fake_features_all = torch.cat(fake_features_list)\n",
    "real_features_all = torch.cat(real_features_list)"
   ]
  },
  {
   "cell_type": "code",
   "execution_count": null,
   "id": "e48e5a0e",
   "metadata": {},
   "outputs": [],
   "source": [
    "# Calculate the covariance matrix for the fake and real features\n",
    "# and also calculate the means of the feature over the batch (for each feature dimension mean)\n",
    "#### START CODE HERE ####\n",
    "mu_fake = torch.mean(fake_features_all, dim=0)\n",
    "mu_real = torch.mean(real_features_all, dim=0)\n",
    "sigma_fake = get_covariance(fake_features_all)\n",
    "sigma_real = get_covariance(real_features_all)\n",
    "#### END CODE HERE ####"
   ]
  },
  {
   "cell_type": "code",
   "execution_count": null,
   "id": "1d6ee129",
   "metadata": {},
   "outputs": [],
   "source": [
    "assert tuple(sigma_fake.shape) == (fake_features_all.shape[1], fake_features_all.shape[1])\n",
    "assert torch.abs(sigma_fake[0, 0] - 2.5e-2) < 1e-2 and torch.abs(sigma_fake[-1, -1] - 5e-2) < 1e-2\n",
    "assert tuple(sigma_real.shape) == (real_features_all.shape[1], real_features_all.shape[1])\n",
    "assert torch.abs(sigma_real[0, 0] - 3.5768e-2) < 1e-4 and torch.abs(sigma_real[0, 1] + 5.3236e-4) < 1e-4\n",
    "assert tuple(mu_fake.shape) == (fake_features_all.shape[1],)\n",
    "assert tuple(mu_real.shape) == (real_features_all.shape[1],)\n",
    "assert torch.abs(mu_real[0] - 0.3099) < 0.01 and torch.abs(mu_real[1] - 0.2721) < 0.01\n",
    "assert torch.abs(mu_fake[0] - 0.37) < 0.05 and torch.abs(mu_real[1] - 0.27) < 0.05\n",
    "print(\"Success!\")"
   ]
  },
  {
   "cell_type": "markdown",
   "id": "ef6b5ce7",
   "metadata": {},
   "source": [
    "At this point, you can also visualize what the pairwise multivariate distributions of the inception features look like!"
   ]
  },
  {
   "cell_type": "code",
   "execution_count": null,
   "id": "d81302ec",
   "metadata": {},
   "outputs": [],
   "source": [
    "indices = [2, 4, 5]\n",
    "fake_dist = MultivariateNormal(mu_fake[indices], sigma_fake[indices][:, indices])\n",
    "fake_samples = fake_dist.sample((5000,))\n",
    "real_dist = MultivariateNormal(mu_real[indices], sigma_real[indices][:, indices])\n",
    "real_samples = real_dist.sample((5000,))\n",
    "\n",
    "import pandas as pd\n",
    "df_fake = pd.DataFrame(fake_samples.numpy(), columns=indices)\n",
    "df_real = pd.DataFrame(real_samples.numpy(), columns=indices)\n",
    "df_fake[\"is_real\"] = \"no\"\n",
    "df_real[\"is_real\"] = \"yes\"\n",
    "df = pd.concat([df_fake, df_real])\n",
    "sns.pairplot(df, plot_kws={'alpha': 0.1}, hue='is_real')"
   ]
  },
  {
   "cell_type": "markdown",
   "id": "5e48f699",
   "metadata": {},
   "source": [
    "Lastly, you can use your earlier `frechet_distance` function to calculate the FID and evaluate your GAN. You can see how similar/different the features of the generated images are to the features of the real images. The next cell might take five minutes or so to run in Coursera."
   ]
  },
  {
   "cell_type": "code",
   "execution_count": null,
   "id": "662f330f",
   "metadata": {},
   "outputs": [],
   "source": [
    "with torch.no_grad():\n",
    "    print(frechet_distance(mu_real, mu_fake, sigma_real, sigma_fake).item())"
   ]
  },
  {
   "cell_type": "markdown",
   "id": "d711b879",
   "metadata": {},
   "source": [
    "You'll notice this model gets a pretty high FID, likely over 30. Since lower is better, and the best models on CelebA get scores in the single-digits, there's clearly a long way to go with this model. You can use FID to compare different models, as well as different stages of training of the same model. "
   ]
  },
  {
   "cell_type": "code",
   "execution_count": null,
   "id": "6092072a",
   "metadata": {},
   "outputs": [],
   "source": []
  }
 ],
 "metadata": {
  "kernelspec": {
   "display_name": "Python 3 (ipykernel)",
   "language": "python",
   "name": "python3"
  },
  "language_info": {
   "codemirror_mode": {
    "name": "ipython",
    "version": 3
   },
   "file_extension": ".py",
   "mimetype": "text/x-python",
   "name": "python",
   "nbconvert_exporter": "python",
   "pygments_lexer": "ipython3",
   "version": "3.7.3"
  }
 },
 "nbformat": 4,
 "nbformat_minor": 5
}
