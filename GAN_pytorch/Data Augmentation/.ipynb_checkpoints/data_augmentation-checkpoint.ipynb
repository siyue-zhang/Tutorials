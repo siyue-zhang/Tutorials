{
 "cells": [
  {
   "cell_type": "markdown",
   "id": "9f404812",
   "metadata": {},
   "source": [
    "## Data Augmentation by GAN\n",
    "\n",
    "Supplement data when real data is\n",
    "* too expensive\n",
    "* too rare\n",
    "\n",
    "RandAugment: Practical automated data augmentation with a reduced search space: https://arxiv.org/abs/1909.13719\n"
   ]
  },
  {
   "cell_type": "markdown",
   "id": "5dd72034",
   "metadata": {},
   "source": [
    "### Pros\n",
    "- Better than hand-crafted synthetic examples\n",
    "- Generate more labeled examples for rare classes\n",
    "- Improve downstream model generalization\n",
    "\n",
    "### Cons\n",
    "- Diversity is limited to data available\n",
    "- Not useful when overfit to real data (fake is very close to the real data)\n"
   ]
  },
  {
   "cell_type": "markdown",
   "id": "96e54bd7",
   "metadata": {},
   "source": [
    "### GAN for Privacy\n",
    "- Medical privacy (MRI scan)\n",
    "\n",
    "GAN sample can be nearly identical to a real sample\n",
    "\n",
    "## Train on GAN Data\n",
    "\n",
    "<img src=\"../images/train_on_GAN.png\" width=\"600\"/>"
   ]
  },
  {
   "cell_type": "code",
   "execution_count": null,
   "id": "edaac372",
   "metadata": {},
   "outputs": [],
   "source": []
  }
 ],
 "metadata": {
  "kernelspec": {
   "display_name": "Python 3 (ipykernel)",
   "language": "python",
   "name": "python3"
  },
  "language_info": {
   "codemirror_mode": {
    "name": "ipython",
    "version": 3
   },
   "file_extension": ".py",
   "mimetype": "text/x-python",
   "name": "python",
   "nbconvert_exporter": "python",
   "pygments_lexer": "ipython3",
   "version": "3.7.3"
  }
 },
 "nbformat": 4,
 "nbformat_minor": 5
}
