{
 "cells": [
  {
   "cell_type": "markdown",
   "id": "29e92fed",
   "metadata": {},
   "source": [
    "# CycleGAN: unpaired image style transfer\n",
    "\n",
    "Two GANs + Cycle Consistency Loss + Least Squares Adversarial Loss + (optional) Identity Loss\n",
    "\n",
    "## Two GANs + Cycle Consistency Loss + Least Squares Adversarial Loss\n",
    "\n",
    "Discriminator is simpler, with Least Squares Adversarial Loss using PatchGAN\n",
    "\n",
    "### Foward Direction\n",
    "\n",
    "<img src=\"./images/cycle_gen.png\" width=\"800\"/>\n",
    "\n",
    "### Opposite Direction\n",
    "\n",
    "<img src=\"./images/cycle_gen_op.png\" width=\"800\"/>\n",
    "\n",
    "Cycle Consistency Loss can be also used in language translation like French -> English -> French\n",
    "\n",
    "## Identity Loss\n",
    "\n",
    "<img src=\"./images/id_loss.png\" width=\"400\"/>\n",
    "\n",
    "<img src=\"./images/id_loss2.png\" width=\"400\"/>\n",
    "\n",
    "## Total loss\n",
    "\n",
    "For two generators together, 6 loss terms\n",
    "\n",
    "<img src=\"./images/loss.png\" width=\"800\"/>\n",
    "\n",
    "\n"
   ]
  },
  {
   "cell_type": "markdown",
   "id": "fea00cf0",
   "metadata": {},
   "source": [
    "## Ablation Studies\n",
    "\n",
    "To see how would the model do if the part of model is cut out.\n",
    "\n",
    "* Without Adversarial GAN Loss, ouputs are not realistic\n",
    "* Without Cycle Consistency Loss, outputs show signs of mode collapse\n",
    "* Without full Cycle Consistency Loss, outputs see mode collapse too\n",
    "\n",
    "<img src=https://miro.medium.com/max/700/0*OpMbUeJLYMi9TeEz.jpg width=\"600\"/>\n",
    "\n",
    "\n"
   ]
  },
  {
   "cell_type": "markdown",
   "id": "0a4131d2",
   "metadata": {},
   "source": [
    "## CycleGAN Applications & Variants\n",
    "\n",
    "Paintings, aging, data augmentation (Tumors, CT...)\n",
    "\n",
    "### Variant: UNIT (day time - night time)\n",
    "A shared latent space (z) is mapped to two different domains (X1 - day time view, X2 - night time view)\n",
    "\n",
    "### Variant: Multimodal UNIT (MUNIT)\n",
    "Creative styles generated with unsupervised learning, image-to-image translation\n"
   ]
  },
  {
   "cell_type": "code",
   "execution_count": null,
   "id": "2f5c822d",
   "metadata": {},
   "outputs": [],
   "source": []
  }
 ],
 "metadata": {
  "kernelspec": {
   "display_name": "Python 3 (ipykernel)",
   "language": "python",
   "name": "python3"
  },
  "language_info": {
   "codemirror_mode": {
    "name": "ipython",
    "version": 3
   },
   "file_extension": ".py",
   "mimetype": "text/x-python",
   "name": "python",
   "nbconvert_exporter": "python",
   "pygments_lexer": "ipython3",
   "version": "3.7.3"
  }
 },
 "nbformat": 4,
 "nbformat_minor": 5
}
