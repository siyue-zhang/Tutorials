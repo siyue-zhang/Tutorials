{
 "cells": [
  {
   "cell_type": "markdown",
   "id": "51a21f14",
   "metadata": {},
   "source": [
    "# Pix2Pix\n",
    "\n",
    "Paired images + no explicit noise + conditional GAN + U-Net generator + PatchGAN discriminator \n"
   ]
  },
  {
   "cell_type": "markdown",
   "id": "47c493d0",
   "metadata": {},
   "source": [
    "## Generator: U-Net\n",
    "\n",
    "U-Net has been a very successful CV model for image segmentation.\n",
    "\n",
    "To avoid overfitting networks to training image pairs, U-Net introduces skip connections from the encoder to decoder. It also allows information to flow from earlier layers to later layers. (concatenated or added into later layer)\n",
    "\n",
    "<img src= \"../images/UNet.jpg\" width=350 />\n",
    "\n",
    "<img src= \"../images/UNet2.jpg\" width=600 />\n",
    "\n",
    "Skip connections allow information to flow to later layers by reducing the vanishing gradient problem, which occurs when there are too many layers."
   ]
  },
  {
   "cell_type": "markdown",
   "id": "ee5fa57c",
   "metadata": {},
   "source": [
    "## Pixel Distance Loss Term\n",
    "\n",
    "Objective: $min_g$ $max_c$ Adversarial loss + $\\lambda$ * Pixel loss term\n",
    "\n",
    "Generator Loss = BCE Loss + $\\lambda \\sum_{i=1}^{n}{|generated\\_output - real\\_output|}$"
   ]
  },
  {
   "cell_type": "markdown",
   "id": "8791f0f2",
   "metadata": {},
   "source": [
    "## Discriminator: PatchGAN\n",
    "\n",
    "Output a matrix of values instead of a single value\n",
    "\n",
    "<img src= \"https://www.researchgate.net/profile/Gozde-Unal-2/publication/323904616/figure/fig1/AS:606457334595585@1521602104652/PatchGAN-discriminator-Each-value-of-the-output-matrix-represents-the-probability-of.png\" width=500 />\n",
    "\n",
    "Still use BCE Loss\n",
    "\n",
    "Label matrices:\n",
    "* 0's = fake\n",
    "* 1's = real"
   ]
  },
  {
   "cell_type": "markdown",
   "id": "849485c5",
   "metadata": {},
   "source": [
    "## Full Architecture\n",
    "\n",
    "<img src= \"../images/pix2pix.jpg\" width=800 />"
   ]
  },
  {
   "cell_type": "markdown",
   "id": "71ccc00a",
   "metadata": {},
   "source": [
    "## Pix2Pix Advancements\n",
    "\n",
    "Designed for higher resolution images\n",
    "- Pix2PixHD: face editing\n",
    "- GauGAN: art\n",
    "\n"
   ]
  },
  {
   "cell_type": "code",
   "execution_count": null,
   "id": "c71fa2e8",
   "metadata": {},
   "outputs": [],
   "source": []
  }
 ],
 "metadata": {
  "kernelspec": {
   "display_name": "Python 3 (ipykernel)",
   "language": "python",
   "name": "python3"
  },
  "language_info": {
   "codemirror_mode": {
    "name": "ipython",
    "version": 3
   },
   "file_extension": ".py",
   "mimetype": "text/x-python",
   "name": "python",
   "nbconvert_exporter": "python",
   "pygments_lexer": "ipython3",
   "version": "3.7.3"
  }
 },
 "nbformat": 4,
 "nbformat_minor": 5
}
