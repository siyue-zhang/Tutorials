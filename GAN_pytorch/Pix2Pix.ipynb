{
 "cells": [
  {
   "cell_type": "markdown",
   "id": "51a21f14",
   "metadata": {},
   "source": [
    "# Pix2Pix\n",
    "\n",
    "Paired images + no explicit noise + conditional GAN + U-Net generator + PatchGAN discriminator \n",
    "\n",
    "## PatchGAN\n",
    "\n",
    "Output a matrix of values instead of a single value\n",
    "\n",
    "<img src= \"https://www.researchgate.net/profile/Gozde-Unal-2/publication/323904616/figure/fig1/AS:606457334595585@1521602104652/PatchGAN-discriminator-Each-value-of-the-output-matrix-represents-the-probability-of.png\" width=500 />\n",
    "\n",
    "Still use BCE Loss\n",
    "\n",
    "Label matrices:\n",
    "* 0's = fake\n",
    "* 1's = real"
   ]
  },
  {
   "cell_type": "markdown",
   "id": "47c493d0",
   "metadata": {},
   "source": [
    "## U-Net\n",
    "\n",
    "U-Net has been a very successful CV model for image segmentation.\n",
    "\n",
    "To avoid overfitting networks to training image pairs, U-Net introduces skip connections from the encoder to decoder. It also allows information to flow from earlier layers to later layers. (concatenated or added into later layer)\n",
    "\n"
   ]
  },
  {
   "cell_type": "code",
   "execution_count": null,
   "id": "f89a1fa3",
   "metadata": {},
   "outputs": [],
   "source": []
  }
 ],
 "metadata": {
  "kernelspec": {
   "display_name": "Python 3 (ipykernel)",
   "language": "python",
   "name": "python3"
  },
  "language_info": {
   "codemirror_mode": {
    "name": "ipython",
    "version": 3
   },
   "file_extension": ".py",
   "mimetype": "text/x-python",
   "name": "python",
   "nbconvert_exporter": "python",
   "pygments_lexer": "ipython3",
   "version": "3.7.3"
  }
 },
 "nbformat": 4,
 "nbformat_minor": 5
}
