{
 "cells": [
  {
   "cell_type": "markdown",
   "id": "f7a86ca9",
   "metadata": {},
   "source": [
    "# Introduction to StyleGAN\n",
    "\n",
    "Goals:\n",
    "* Greater **fidelity** on high-resolution images\n",
    "* Increased **diversity** of outputs\n",
    "* More **control** over image features\n",
    "\n",
    "Main components of StyleGAN:\n",
    "1. Progressive growing\n",
    "2. Noise mapping network\n",
    "3. Adaptive instance normalization (AdaIN)\n",
    "4. Style mixing\n",
    "5. Stochastic noise"
   ]
  },
  {
   "cell_type": "markdown",
   "id": "ea9422be",
   "metadata": {},
   "source": [
    "## Progressive growing\n",
    "\n",
    "* Progressive growing gradually doubles image resolution\n",
    "* Help with faster, more stable training for higher resolutions\n",
    "\n",
    "Generator\n",
    "\n",
    "<img src=./images/pro_gen.png width=\"500\"/>\n",
    "\n",
    "Discriminator\n",
    "\n",
    "<img src=./images/pro_dis.png width=\"500\"/>\n",
    "\n",
    "$\\alpha$ increases over time"
   ]
  },
  {
   "cell_type": "markdown",
   "id": "7b850cdd",
   "metadata": {},
   "source": [
    "## Noise mapping network\n",
    "\n",
    "<img src=https://miro.medium.com/max/1400/1*O16MfmqTbD0ENx3pZEJMIA.png width=\"800\"/>\n",
    "\n",
    "z (512 values) -> Multi-layer perceptron (MLP) -> w (512 values)\n",
    "\n",
    "w: intermediate noise vector, less entangled than z space\n",
    "\n",
    "W's influence differs at different points that it's inputed\n"
   ]
  },
  {
   "cell_type": "markdown",
   "id": "1a6749e5",
   "metadata": {},
   "source": [
    "## Adaptive instance normalization (AdaIN)\n",
    "\n",
    "<img src=./images/AdaIN.png width=\"800\"/>\n",
    "\n",
    "### Instance norm\n",
    "\n",
    "**C**: number of channels **N**: number of examples in a batch\n",
    "\n",
    "**Batch norm**: mean and standard deviation based on each channel in each batch\n",
    "\n",
    "**Instance norm**: mean and standard deviation based on each channel in each instance/example\n",
    "\n",
    "### Adaptive styles\n",
    "\n",
    "Using the intermediate noise vector\n",
    "\n",
    "* w -> FC_s -> $y_{scale}$\n",
    "* w -> FC_b -> $y_{bias}$\n",
    "\n",
    "$(y_s, y_b)$ added into each AdaIN layer\n",
    "\n",
    "<img src=./images/AdaIN_eq.png width=\"600\"/>\n",
    "\n",
    "* Instance norm part is tring to undo any style related information that was originally there, every block controls styles at that block\n",
    "* Adaptive styles don't change image content but change image style\n",
    "\n"
   ]
  },
  {
   "cell_type": "markdown",
   "id": "658e5fe6",
   "metadata": {},
   "source": [
    "## Style and stochastic variation\n",
    "\n",
    "The later the switch of w in progressive layers, the finer the features that will be obtained from w.\n",
    "\n",
    "<img src=./images/style_ctrl.png width=\"600\"/>\n",
    "\n",
    "\n",
    "* Control coarse and fine styles (w_1_coarse, w_1_middle, w_1_fine)\n",
    "* Style mixing (w_1, w_2)\n",
    "* Injecting stochastic noise at coarse layer or fine layer (sample noise from Normal distribution, concatenate noise to x before AdaIN)\n",
    "\n",
    "Noise injected by a learned sacling factor $\\lambda$ to tell how much this noise matters. \n",
    "\n",
    "Small details: hair strands, wrinkles, etc."
   ]
  },
  {
   "cell_type": "code",
   "execution_count": null,
   "id": "e2f1eb84",
   "metadata": {},
   "outputs": [],
   "source": []
  }
 ],
 "metadata": {
  "kernelspec": {
   "display_name": "Python 3 (ipykernel)",
   "language": "python",
   "name": "python3"
  },
  "language_info": {
   "codemirror_mode": {
    "name": "ipython",
    "version": 3
   },
   "file_extension": ".py",
   "mimetype": "text/x-python",
   "name": "python",
   "nbconvert_exporter": "python",
   "pygments_lexer": "ipython3",
   "version": "3.7.3"
  }
 },
 "nbformat": 4,
 "nbformat_minor": 5
}
