{
 "cells": [
  {
   "cell_type": "markdown",
   "id": "8d7cf32b",
   "metadata": {},
   "source": [
    "# Git & GitHub Crash Course For Beginners"
   ]
  },
  {
   "cell_type": "markdown",
   "id": "2a9feb75",
   "metadata": {},
   "source": [
    "Version Control System (VCS)\n",
    "- Distributed version control (many developer at different network domains)\n",
    "- Coordinates work between multiple developers\n",
    "- Who made what changes and when\n",
    "- Revert back at any time\n",
    "- Local & remote repos\n",
    "\n",
    "Snapeshots of files by making a commit"
   ]
  },
  {
   "cell_type": "markdown",
   "id": "51d3ed5d",
   "metadata": {},
   "source": [
    "`$ git init` Initialize local git repository\n",
    "\n",
    "`$ git add <file>` Add file to index\n",
    "\n",
    "`$ git status` Check status of working tree\n",
    "\n",
    "`$ git commit` Commit changes in index\n",
    "\n",
    "`$ git push` Push to remote repository\n",
    "\n",
    "`$ git pull` Pull latest from remote repo"
   ]
  },
  {
   "cell_type": "markdown",
   "id": "c3c846ab",
   "metadata": {},
   "source": [
    "Shortcut:\n",
    "- Go to file and right click git bash"
   ]
  },
  {
   "cell_type": "markdown",
   "id": "d51b4cc3",
   "metadata": {},
   "source": [
    "Steps:\n",
    "1. `git init`\n",
    "2. `git config --global user.name 'xxx'`\n",
    "3. `git config --global user.email 'xxx'`\n",
    "4. `git add <file>`\n",
    "5. `git status`\n",
    "6. `git rm --cached <file>` to remove file from staging area\n",
    "7. `git add *.html`\n",
    "8. `git add .` add all files\n",
    "9. `git commit -m \"comment\"`\n",
    "10. `git branch login`\n",
    "11. `git checkout login` switch branch\n",
    "12. `git merge login`\n",
    "13. `git branch -d backup`\n"
   ]
  },
  {
   "cell_type": "markdown",
   "id": "4eae282f",
   "metadata": {},
   "source": [
    "To see local branches, run this command:\n",
    "`git branch`\n",
    "\n",
    "To see remote branches, run this command:\n",
    "`git branch -r`\n",
    "\n",
    "To see all local and remote branches, run this command:\n",
    "`git branch -a`"
   ]
  },
  {
   "cell_type": "markdown",
   "id": "126b8335",
   "metadata": {},
   "source": [
    "Connect to remote repo:\n",
    "1. `git remote`\n",
    "2. `git remote add origin https://...`\n",
    "3. `git push -u origin master`\n",
    "\n"
   ]
  },
  {
   "cell_type": "code",
   "execution_count": null,
   "id": "2adc93a4",
   "metadata": {},
   "outputs": [],
   "source": []
  }
 ],
 "metadata": {
  "kernelspec": {
   "display_name": "Python 3 (ipykernel)",
   "language": "python",
   "name": "python3"
  },
  "language_info": {
   "codemirror_mode": {
    "name": "ipython",
    "version": 3
   },
   "file_extension": ".py",
   "mimetype": "text/x-python",
   "name": "python",
   "nbconvert_exporter": "python",
   "pygments_lexer": "ipython3",
   "version": "3.7.3"
  }
 },
 "nbformat": 4,
 "nbformat_minor": 5
}
