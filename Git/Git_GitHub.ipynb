{
 "cells": [
  {
   "cell_type": "markdown",
   "id": "dddd6130",
   "metadata": {},
   "source": [
    "# Git & GitHub Crash Course For Beginners"
   ]
  },
  {
   "cell_type": "markdown",
   "id": "0614488f",
   "metadata": {},
   "source": [
    "Version Control System (VCS)\n",
    "- Distributed version control (many developer at different network domains)\n",
    "- Coordinates work between multiple developers\n",
    "- Who made what changes and when\n",
    "- Revert back at any time\n",
    "- Local & remote repos\n",
    "\n",
    "Snapeshots of files by making a commit"
   ]
  },
  {
   "cell_type": "markdown",
   "id": "2fed7431",
   "metadata": {},
   "source": [
    "`$ git init` Initialize local git repository\n",
    "\n",
    "`$ git add <file>` Add file to index\n",
    "\n",
    "`$ git status` Check status of working tree\n",
    "\n",
    "`$ git commit` Commit changes in index\n",
    "\n",
    "`$ git push` Push to remote repository\n",
    "\n",
    "`$ git pull` Pull latest from remote repo"
   ]
  },
  {
   "cell_type": "markdown",
   "id": "3890dbee",
   "metadata": {},
   "source": [
    "Shortcut:\n",
    "- Go to file and right click git bash\n",
    "- \n"
   ]
  },
  {
   "cell_type": "markdown",
   "id": "9ba921c5",
   "metadata": {},
   "source": [
    "Flow:\n",
    "1. `git init`\n",
    "2. `git config --global user.name 'xxx'`\n",
    "3. `git config --global user.email 'xxx'`\n",
    "4. `git add <file>`\n",
    "5. `git status`\n",
    "6. `git rm --cached <file>` to remove file from staging area\n",
    "7. `git add *.html"
   ]
  }
 ],
 "metadata": {
  "kernelspec": {
   "display_name": "Python 3 (ipykernel)",
   "language": "python",
   "name": "python3"
  },
  "language_info": {
   "codemirror_mode": {
    "name": "ipython",
    "version": 3
   },
   "file_extension": ".py",
   "mimetype": "text/x-python",
   "name": "python",
   "nbconvert_exporter": "python",
   "pygments_lexer": "ipython3",
   "version": "3.7.3"
  }
 },
 "nbformat": 4,
 "nbformat_minor": 5
}
