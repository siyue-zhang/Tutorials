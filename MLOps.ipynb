{
 "cells": [
  {
   "cell_type": "markdown",
   "id": "19cb0537",
   "metadata": {},
   "source": [
    "<img src=\"./Figs/flow.jpeg\" width=\"600\" height=\"800\"/>"
   ]
  },
  {
   "cell_type": "markdown",
   "id": "1bd1b9df",
   "metadata": {},
   "source": [
    "#### Open Neural Network Exchange (ONNX)\n",
    "\n",
    "ONNX is an open-source project designed to boost interoperability between different ML frameworks. A shared model file format provides separation between development and deployment stages, which means ML models can be deployed on a wide scale of hardware devices irrespective of the framework that was used to train the model."
   ]
  },
  {
   "cell_type": "markdown",
   "id": "9fe5195a",
   "metadata": {},
   "source": [
    "#### Hydra\n",
    "\n",
    "Hydra is an open-source Python framework that simplifies the development of research and other complex applications. The key feature is the ability to dynamically create a hierarchical configuration by composition and override it through config files and the command line.\n",
    "\n",
    "* Hierarchical configuration composable from multiple sources\n",
    "* Configuration can be specified or overridden from the command line\n",
    "* Dynamic command line tab completion\n",
    "* Run your application locally or launch it to run remotely\n",
    "* Run multiple jobs with different arguments with a single command"
   ]
  },
  {
   "cell_type": "markdown",
   "id": "c7317c27",
   "metadata": {},
   "source": [
    "#### Data Version Control (DVC)\n",
    "\n",
    "DVC is a system for data version control. It is essentially like Git but is used for data. With DVC, you can keep the information about different versions of your data in Git while storing your original data somewhere else.\n"
   ]
  },
  {
   "cell_type": "markdown",
   "id": "deb4dda9",
   "metadata": {},
   "source": [
    "#### Amazon Simple Storage Service (Amazon S3)\n",
    "\n",
    "Amazon S3 has a simple web services interface that you can use to store and retrieve any amount of data, at any time, from anywhere on the web. It gives any developer access to the same highly scalable, reliable, fast, and inexpensive data storage infrastructure that Amazon uses to run its own global network of web sites. The service aims to maximize benefits of scale and to pass those benefits on to developers.\n"
   ]
  },
  {
   "cell_type": "markdown",
   "id": "f89c0ab7",
   "metadata": {},
   "source": [
    "#### Amazon Elastic Container Registry (Amazon ECR)\n",
    "\n",
    "Amazon Elastic Container Registry (ECR) is a fully-managed Docker container registry that makes it easy for developers to store, manage, and deploy Docker container images. You can use Amazon ECR and Amazon Elastic Container Service (ECS) together to securely and easily collaborate and deploy across your development, testing, and production environments.\n"
   ]
  },
  {
   "cell_type": "markdown",
   "id": "86061a00",
   "metadata": {},
   "source": [
    "#### AWS Lambda\n",
    "\n",
    "Lambda is a compute service that lets you run code without provisioning or managing servers. Lambda runs your code on a high-availability compute infrastructure and performs all of the administration of the compute resources, including server and operating system maintenance, capacity provisioning and automatic scaling, code monitoring and logging. With Lambda, you can run code for virtually any type of application or backend service. All you need to do is supply your code in one of the languages that Lambda supports."
   ]
  },
  {
   "cell_type": "markdown",
   "id": "7b143923",
   "metadata": {},
   "source": [
    "\n",
    "### ML Project Lifecycle\n",
    "<img src=\"./Figs/ML life cycle.png\"/>\n",
    "\n",
    "\n",
    "### ML Deployment\n",
    "\n",
    "#### Software engineering checklist\n",
    "* Realtime or Batch\n",
    "* Cloud or Edge/Browser\n",
    "* Compute resources (CPU/GPU/memory)\n",
    "* Latency, throught (QPS)\n",
    "* Logging\n",
    "* Security and privacy\n",
    "\n",
    "#### Concept drift and data drift\n",
    "Concept drift: the mapping between Y and X changes after deployment <br>\n",
    "Data drift: the X data distribution changes after deployment\n",
    "\n",
    "#### Deployment modes\n",
    "1. shadow deployment (just predict, do nothing)\n",
    "2. green(new)/blue(old) deployment (router switch between old and new versions)\n",
    "3. canary deployment (start with small trafic)\n",
    "\n",
    "#### Degrees of automation\n",
    "* Human only\n",
    "* Shadow mode\n",
    "* AI assistance (Human in the loop)\n",
    "* Partial automation (if ML is not enough confident, send to human)\n",
    "* Full automation\n",
    "\n",
    "#### Monitoring\n",
    "\n",
    "**Software metrics**: memory, compute, latency, throughput, server load <br>\n",
    "**Input metrics**: avg input length, avg input volume, num of missing values, avg image brightness <br>\n",
    "**Output metrics**: num of times return null, num of times user redoes search, num of times user switch to typing, click through rate\n",
    "\n",
    "set thresholds for alarms <br>\n",
    "adapt metrics and thresholds over time\n",
    "\n",
    "*Manual retraining <br>\n",
    "Automatic retraining\n",
    "\n",
    "#### Pipeline monitoring\n",
    "Audio -> VAD (voice activity detection) -> Speach recognition -> Transcript\n",
    "\n",
    "User clickstream data -> User profile (e.g. own car?) -> Recommender system -> Product recommendations\n",
    "\n",
    "#### Establish baseline level of performance\n",
    "Unstructured data: Human Level Performance -> good job <br>\n",
    "Structured data: HLP less useful\n",
    "\n",
    "Literature search for sota source <br>\n",
    "Performance of older system"
   ]
  },
  {
   "cell_type": "markdown",
   "id": "7a5bfc83",
   "metadata": {},
   "source": [
    "Tips:\n",
    "* Find open-source implementations if available.\n",
    "* A reasonable algorithm with good data will often outperform a great algorithm with no so good data.\n",
    "\n",
    "Sanity-check for code and algorithm\n",
    "* Try to overfit a small training dataset before training on a large one\n",
    "\n",
    "#### Prioritizing what to work on\n",
    "Decide on most important categories to work on based on:\n",
    "* How much room for improvement there is\n",
    "* How frequently that category appears\n",
    "* How easy is to improve accuracy in that category\n",
    "* How important it is to improve in that category\n",
    "\n",
    "\n",
    "\n"
   ]
  },
  {
   "cell_type": "markdown",
   "id": "fba9ab85",
   "metadata": {},
   "source": [
    "#### Skewed datasets\n",
    "\n",
    "Confusion matrix\n",
    "* (P)Precision: true positive / total predicted positive \n",
    "* (R)Recall: true positive / total true\n",
    "\n",
    "$F_1 = \\frac{2}{\\frac{1}{P} + \\frac{1}{R}}$\n"
   ]
  },
  {
   "cell_type": "markdown",
   "id": "c2df28d6",
   "metadata": {},
   "source": [
    "### Data-centric AI development\n",
    "\n",
    "#### Data augmentation\n",
    "\n",
    "Speech recognition: adding different types of noise, synthetic training examples <br>\n",
    "<img src=\"./Figs/performance_band.jpg\" width=\"500\"/>\n",
    "\n",
    "Goal: create realistic examples <br>\n",
    "i) the algorithm does poorly on <br>\n",
    "ii) but humans (or other baseline) do well on\n",
    "\n",
    "Checklist:\n",
    "1. Does it sound realistic?\n",
    "2. Is the x->y mapping clear?\n",
    "3. Is the algorithm currently doing poorly currently?\n",
    "\n",
    "Photoshop photoes -> training examples\n",
    "GAN\n",
    "\n",
    "Data iteration loop approach\n",
    "\n",
    "#### Adding data hurt performance?\n",
    "\n",
    "For unstructurerd data problems, if:\n",
    "- Model is large\n",
    "- Mapping x->y is clear\n",
    "\n",
    "Adding data rarely hurts accuracy\n",
    "\n",
    "#### Structured data\n",
    "\n",
    "Possible features to add?<br>\n",
    "can be learned or manual inputs\n",
    "\n",
    "vegeteran? only tea/coffe? only pizza?\n",
    "\n",
    "Trend: collaborative filtering ---> content based filtering<br>\n",
    "content based: menu content, description of restaurant<br>\n",
    "Cold-start problem\n",
    "\n",
    "Feature engineering is helpful for structured data,but not helpful for unstructured data.\n"
   ]
  },
  {
   "cell_type": "markdown",
   "id": "1720da36",
   "metadata": {},
   "source": [
    "### Experiment tracking\n",
    "\n",
    "What to track?\n",
    "- Algorithm/code versioning\n",
    "- Dataset used\n",
    "- Hyperparameters\n",
    "- Results\n",
    "\n",
    "Tools:\n",
    "- Text files\n",
    "- Spreadsheet\n",
    "- Experiment tracking system: Weight & Biases, Comet, MLflow, Sage Maker Studio, Verta.ai\n",
    "\n",
    "### From big data to good data\n",
    "\n",
    "Good data:\n",
    "- Covers important cases (good coverage of inputs x)\n",
    "- Is defined consistently\n",
    "- Has timely feedback from production data (data drift/concept drift)\n",
    "- Is sized appropriately\n",
    "\n"
   ]
  },
  {
   "cell_type": "code",
   "execution_count": null,
   "id": "51a7aa0b",
   "metadata": {},
   "outputs": [],
   "source": []
  }
 ],
 "metadata": {
  "kernelspec": {
   "display_name": "Python 3 (ipykernel)",
   "language": "python",
   "name": "python3"
  },
  "language_info": {
   "codemirror_mode": {
    "name": "ipython",
    "version": 3
   },
   "file_extension": ".py",
   "mimetype": "text/x-python",
   "name": "python",
   "nbconvert_exporter": "python",
   "pygments_lexer": "ipython3",
   "version": "3.7.3"
  }
 },
 "nbformat": 4,
 "nbformat_minor": 5
}
