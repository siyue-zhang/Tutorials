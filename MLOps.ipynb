{
 "cells": [
  {
   "cell_type": "markdown",
   "id": "19cb0537",
   "metadata": {},
   "source": [
    "<img src=\"./Figs/flow.jpeg\" width=\"600\" height=\"800\"/>"
   ]
  },
  {
   "cell_type": "markdown",
   "id": "1bd1b9df",
   "metadata": {},
   "source": [
    "#### Open Neural Network Exchange (ONNX)\n",
    "\n",
    "ONNX is an open-source project designed to boost interoperability between different ML frameworks. A shared model file format provides separation between development and deployment stages, which means ML models can be deployed on a wide scale of hardware devices irrespective of the framework that was used to train the model."
   ]
  },
  {
   "cell_type": "markdown",
   "id": "9fe5195a",
   "metadata": {},
   "source": [
    "#### Hydra\n",
    "\n",
    "Hydra is an open-source Python framework that simplifies the development of research and other complex applications. The key feature is the ability to dynamically create a hierarchical configuration by composition and override it through config files and the command line.\n",
    "\n",
    "* Hierarchical configuration composable from multiple sources\n",
    "* Configuration can be specified or overridden from the command line\n",
    "* Dynamic command line tab completion\n",
    "* Run your application locally or launch it to run remotely\n",
    "* Run multiple jobs with different arguments with a single command"
   ]
  },
  {
   "cell_type": "markdown",
   "id": "c7317c27",
   "metadata": {},
   "source": [
    "#### Data Version Control (DVC)\n",
    "\n",
    "DVC is a system for data version control. It is essentially like Git but is used for data. With DVC, you can keep the information about different versions of your data in Git while storing your original data somewhere else.\n"
   ]
  },
  {
   "cell_type": "markdown",
   "id": "deb4dda9",
   "metadata": {},
   "source": [
    "#### Amazon Simple Storage Service (Amazon S3)\n",
    "\n",
    "Amazon S3 has a simple web services interface that you can use to store and retrieve any amount of data, at any time, from anywhere on the web. It gives any developer access to the same highly scalable, reliable, fast, and inexpensive data storage infrastructure that Amazon uses to run its own global network of web sites. The service aims to maximize benefits of scale and to pass those benefits on to developers.\n"
   ]
  },
  {
   "cell_type": "markdown",
   "id": "f89c0ab7",
   "metadata": {},
   "source": [
    "#### Amazon Elastic Container Registry (Amazon ECR)\n",
    "\n",
    "Amazon Elastic Container Registry (ECR) is a fully-managed Docker container registry that makes it easy for developers to store, manage, and deploy Docker container images. You can use Amazon ECR and Amazon Elastic Container Service (ECS) together to securely and easily collaborate and deploy across your development, testing, and production environments.\n"
   ]
  },
  {
   "cell_type": "markdown",
   "id": "86061a00",
   "metadata": {},
   "source": [
    "#### AWS Lambda\n",
    "\n",
    "Lambda is a compute service that lets you run code without provisioning or managing servers. Lambda runs your code on a high-availability compute infrastructure and performs all of the administration of the compute resources, including server and operating system maintenance, capacity provisioning and automatic scaling, code monitoring and logging. With Lambda, you can run code for virtually any type of application or backend service. All you need to do is supply your code in one of the languages that Lambda supports."
   ]
  },
  {
   "cell_type": "markdown",
   "id": "7b143923",
   "metadata": {},
   "source": [
    "\n",
    "### ML Project Lifecycle\n",
    "<img src=\"./Figs/ML life cycle.png\"/>\n",
    "\n",
    "\n",
    "### ML Deployment\n",
    "\n",
    "#### Software engineering checklist\n",
    "* Realtime or Batch\n",
    "* Cloud or Edge/Browser\n",
    "* Compute resources (CPU/GPU/memory)\n",
    "* Latency, throught (QPS)\n",
    "* Logging\n",
    "* Security and privacy\n",
    "\n",
    "#### Concept drift and data drift\n",
    "Concept drift: the mapping between Y and X changes after deployment <br>\n",
    "Data drift: the X data distribution changes after deployment\n",
    "\n",
    "#### Deployment modes\n",
    "1. shadow deployment (just predict, do nothing)\n",
    "2. green(new)/blue(old) deployment (router switch between old and new versions)\n",
    "3. canary deployment (start with small trafic)\n",
    "\n",
    "#### Degrees of automation\n",
    "* Human only\n",
    "* Shadow mode\n",
    "* AI assistance (Human in the loop)\n",
    "* Partial automation (if ML is not enough confident, send to human)\n",
    "* Full automation\n",
    "\n",
    "#### Monitoring\n",
    "\n",
    "**Software metrics**: memory, compute, latency, throughput, server load <br>\n",
    "**Input metrics**: avg input length, avg input volume, num of missing values, avg image brightness <br>\n",
    "**Output metrics**: num of times return null, num of times user redoes search, num of times user switch to typing, click through rate\n",
    "\n",
    "set thresholds for alarms <br>\n",
    "adapt metrics and thresholds over time\n",
    "\n",
    "*Manual retraining <br>\n",
    "Automatic retraining\n",
    "\n",
    "#### Pipeline monitoring\n",
    "Audio -> VAD (voice activity detection) -> Speach recognition -> Transcript\n",
    "\n",
    "User clickstream data -> User profile (e.g. own car?) -> Recommender system -> Product recommendations "
   ]
  },
  {
   "cell_type": "code",
   "execution_count": null,
   "id": "1a34fc5b",
   "metadata": {},
   "outputs": [],
   "source": []
  }
 ],
 "metadata": {
  "kernelspec": {
   "display_name": "Python 3 (ipykernel)",
   "language": "python",
   "name": "python3"
  },
  "language_info": {
   "codemirror_mode": {
    "name": "ipython",
    "version": 3
   },
   "file_extension": ".py",
   "mimetype": "text/x-python",
   "name": "python",
   "nbconvert_exporter": "python",
   "pygments_lexer": "ipython3",
   "version": "3.7.3"
  }
 },
 "nbformat": 4,
 "nbformat_minor": 5
}
