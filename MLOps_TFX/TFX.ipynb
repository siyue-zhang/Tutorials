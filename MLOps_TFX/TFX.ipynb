{
 "cells": [
  {
   "cell_type": "markdown",
   "id": "ec01fec2",
   "metadata": {},
   "source": [
    "## TensorFlow Extended (TFX)\n",
    "\n",
    "ML pipelines: infrastructure for automating, monitoring, maintaining model training and deployment<br>\n",
    "Directed acyclic graph: DAG is a directed graph that has no cycles<br>\n",
    "Pipeline orchestration frameworks: responsible for scheduling various components in an ML pipeline DAG dependencies \n",
    "<img src=\"https://www.tensorflow.org/tfx/guide/images/prog_fin.png\" width=\"900\"/>\n",
    "\n",
    "Transform: feature engineering<br>\n",
    "TF Lite: IOT devices<br>\n",
    "TFX: Open-source end-to-end ML platform\n",
    "\n",
    "\n",
    "### Data\n",
    "\n",
    "- Understand users, translate user needs into data problems\n",
    "- Ensure data coverage and high predictive signal\n",
    "- Source, store and monitor quality data responsibly\n",
    "\n",
    "Feature engineering to maximize predictive signals in data\n",
    "\n",
    "Commit to fairness\n",
    "\n",
    "#### User privacy\n",
    "- Aggregation: replace unique values with summary value\n",
    "- Redaction: remove some data to create less complete picture\n",
    "\n",
    "#### Drift and skew\n",
    "Drift: changes in data over time.<br>\n",
    "Skew: difference between two static versions, or different sources, such as training set and serving set.\n",
    "\n",
    "Data drift<br>\n",
    "Chebyshev distance (L-infinity): for two points $(x_1,y_1), (x_2, y_2)$, $D = max(|x_2-x_1|,|y_2-y_1|)$"
   ]
  },
  {
   "cell_type": "markdown",
   "id": "a5dd2a9a",
   "metadata": {},
   "source": [
    "### Log analysis tools\n",
    "\n",
    "Logstash: ingest data from a multitude of sources\n",
    "\n",
    "Fluentd: data collector, unify the data collection and consumption\n",
    "\n",
    "Google Cloud Logging\n",
    "\n",
    "AWS ElasticSearch\n",
    "\n",
    "Azure Monitor\n"
   ]
  },
  {
   "cell_type": "code",
   "execution_count": null,
   "id": "45b49cf3",
   "metadata": {},
   "outputs": [],
   "source": []
  }
 ],
 "metadata": {
  "kernelspec": {
   "display_name": "Python 3 (ipykernel)",
   "language": "python",
   "name": "python3"
  },
  "language_info": {
   "codemirror_mode": {
    "name": "ipython",
    "version": 3
   },
   "file_extension": ".py",
   "mimetype": "text/x-python",
   "name": "python",
   "nbconvert_exporter": "python",
   "pygments_lexer": "ipython3",
   "version": "3.7.3"
  }
 },
 "nbformat": 4,
 "nbformat_minor": 5
}
