{
 "cells": [
  {
   "cell_type": "markdown",
   "id": "9fb3f165-712e-4cc3-96d7-2293ece255a8",
   "metadata": {},
   "source": [
    "## Squeezing the most out of data\n",
    "\n",
    "- Making data useful before training a model\n",
    "- Representing data in forms that help models learn\n",
    "- Increasing predictive quality\n",
    "- Reducing dimensionality with feature engineering\n",
    "\n",
    "-> benefit: reduce compute resources required, so as cost\n",
    "\n",
    "**Feature engineering during training must be also applied correctly during serving**\n",
    "\n",
    "## Main preprocessing operations\n",
    "\n",
    "* **Data cleansing**: eliminating or correcting erroneous data\n",
    "\n",
    "* **Feature tuning**: scaling or normalizing \n",
    "\n",
    "* **Dimensionality reduction**: reducing the number of features by creating lower dimension and more robust data represents\n",
    "\n",
    "* **Feature construction**: create new features by using several different techniques\n",
    "\n",
    "## Empirical knowledge of data\n",
    "\n",
    "* **Text**: stemming, lemmatization, TF-IDF, n-grams, embedding lookup\n",
    "\n",
    "* **Image**: clipping, resizing, cropping, blur, Canny filters, Sobel filters, photometric distortions\n",
    "\n",
    "## Feature engineering technique\n",
    "\n",
    "Numerical range:\n",
    "\n",
    "1. Feature scaling\n",
    "* Grayscale imge pixel intensity scale $[0, 255]$ usually rescaled to  $[-1,1]$ (image = (image - 127.5)/127.5)\n",
    "\n",
    "2. Normalization and standardization\n",
    "* Normalization $X_{norm} = \\frac{X - X_{min}}{X_{max}  -  X_{min}}$, $X_{norm}\\in[0,1]$\n",
    "* Standardization (y: Z-score), centered on zero <br>\n",
    "(try both during testing)\n",
    "\n",
    "Grouping:\n",
    "\n",
    "3. Bucketizing / Binning\n",
    "* One-hot encoding for data ranges like histogram ( binning with Facets)\n",
    "\n",
    "4. Other techniques\n",
    "\n",
    "Dimensionality reduction:\n",
    "* PCA: project data along the principal components\n",
    "* t-SNE: t-Distributed stochastic neighbor embedding\n",
    "* UMAP: uniform manifold approximation and projection\n",
    "\n",
    "Feature crossing:\n",
    "* combine multiple features together into a new feature\n",
    "* encode nonlinearity in the feature space, or encode same information in fewer features<br>\n",
    "(e.g. [Day of week, Hour] => [Hour of week])\n",
    "\n",
    "## TensorFlow embedding projector\n",
    "\n",
    "* Intuitive exploration of high-dimensional data\n",
    "\n",
    "<img src=\"../Figs/TF_projector.png\" width=\"800\"/>\n",
    "\n",
    "Link: projector.tensorflow.org\n",
    "\n",
    "## tf.Transform\n",
    "\n",
    "<img src=\"../Figs/tfTransform.png\" width=\"800\"/>\n",
    "\n",
    "**Transform graph**: the graph expresses all of the transformations on data\n",
    "\n",
    "<img src=\"../Figs/tfTransform2.png\" width=\"800\"/>\n",
    "\n",
    "## tf.Transform Analyzers\n",
    "\n",
    "Analyzer full pass over the data to find constants such as min and max.\n",
    "\n",
    "<img src=\"../Figs/tfana.png\" width=\"700\"/>"
   ]
  },
  {
   "cell_type": "markdown",
   "id": "f87a5c7b-e39a-443a-994d-c000958341b7",
   "metadata": {},
   "source": [
    "Beam DirectRunner for single system"
   ]
  },
  {
   "cell_type": "code",
   "execution_count": 1,
   "id": "fc8e7d68-224b-4eeb-8597-0e6a5d46e88a",
   "metadata": {},
   "outputs": [],
   "source": [
    "import tensorflow as tf\n",
    "import apache_beam as beam\n",
    "import apache_beam.io.iobase\n",
    "\n",
    "import tensorflow_transform as tft\n",
    "import tensorflow_transform.beam as tft_beam\n"
   ]
  },
  {
   "cell_type": "code",
   "execution_count": 2,
   "id": "6659569f-5f86-4635-aa16-d9077e0e2a82",
   "metadata": {},
   "outputs": [
    {
     "name": "stdout",
     "output_type": "stream",
     "text": [
      "TensorFlow version: 2.6.0\n",
      "TFX Transform version: 1.3.0\n"
     ]
    }
   ],
   "source": [
    "from tensorflow_transform.tf_metadata import dataset_metadata\n",
    "from tensorflow_transform.tf_metadata import schema_utils\n",
    "\n",
    "import pprint\n",
    "import tempfile\n",
    "\n",
    "print(f'TensorFlow version: {tf.__version__}')\n",
    "print(f'TFX Transform version: {tft.__version__}')"
   ]
  },
  {
   "cell_type": "markdown",
   "id": "1e0a7d06-8a24-449d-9ae4-c6096a812a2d",
   "metadata": {},
   "source": [
    "## Collect raw data"
   ]
  },
  {
   "cell_type": "markdown",
   "id": "f5f73d33-d8b8-4412-95f7-a1b8000044f4",
   "metadata": {},
   "source": [
    "## Define the metadata\n",
    "\n",
    "This contains the schema that tells the types of each feature column (or key) in `raw_data`. You need to take note of a few things:\n",
    "\n",
    "* The transform function later expects the metadata to be packed in a [DatasetMetadata](https://github.com/tensorflow/transform/blob/master/tensorflow_transform/tf_metadata/dataset_metadata.py#L23) object. \n",
    "* The constructor for the `DatasetMetadata` class expects a [Schema protocol buffer](https://github.com/tensorflow/metadata/blob/master/tensorflow_metadata/proto/v0/schema.proto#L46) data type. You can use the [schema_from_feature_spec()](https://github.com/tensorflow/transform/blob/master/tensorflow_transform/tf_metadata/schema_utils.py#L36) method to generate that from a dictionary.\n",
    "* To build the said dictionary, you will use the keys/column names of `raw_data` and assign a [FeatureSpecType](https://github.com/tensorflow/transform/blob/master/tensorflow_transform/common_types.py#L29) as values. This allows you to specify if the input is fixed or variable length (using [tf.io](https://www.tensorflow.org/api_docs/python/tf/io) classes), as well as to define the shape and data type.\n"
   ]
  },
  {
   "cell_type": "code",
   "execution_count": null,
   "id": "9c1108ee-353c-47dd-ad97-6586eaea3e65",
   "metadata": {},
   "outputs": [],
   "source": [
    "# define the schema as a DatasetMetadata object\n",
    "raw_data_metadata = dataset_metadata.DatasetMetadata(\n",
    "    \n",
    "    # use convenience function to build a Schema protobuf\n",
    "    schema_utils.schema_from_feature_spec({\n",
    "        \n",
    "        # define a dictionary mapping the keys to its feature spec type\n",
    "        'y': tf.io.FixedLenFeature([], tf.float32),\n",
    "        'x': tf.io.FixedLenFeature([], tf.float32),\n",
    "        's': tf.io.FixedLenFeature([], tf.string),\n",
    "    }))\n",
    "\n",
    "# preview the schema\n",
    "print(raw_data_metadata._schema)"
   ]
  },
  {
   "cell_type": "markdown",
   "id": "85dd1e74-c2df-4feb-aa3d-7257419fd0aa",
   "metadata": {},
   "source": [
    "## Create a preprocessing function\n",
    "The _preprocessing function_ is the most important concept of `tf.Transform`. A preprocessing function is where the transformation of the dataset really happens. It accepts and returns a dictionary of tensors, where a tensor means a <a target='_blank' href='https://www.tensorflow.org/versions/r1.15/api_docs/python/tf/Tensor'><code>Tensor</code></a> or <a target='_blank' href='https://www.tensorflow.org/versions/r1.15/api_docs/python/tf/SparseTensor'><code>SparseTensor</code></a>. There are two main groups of API calls that typically form the heart of a preprocessing function:\n",
    "\n",
    "1. **TensorFlow Ops:** Any function that accepts and returns tensors. These add TensorFlow operations to the graph that transforms raw data into transformed data one feature vector at a time.  These will run for every example, during both training and serving.\n",
    "2. **TensorFlow Transform Analyzers:** Any of the analyzers provided by `tf.Transform`. Analyzers also accept and return tensors, but unlike TensorFlow ops they only run once during training, and typically make a full pass over the entire training dataset. They create <a target='_blank' href='https://www.tensorflow.org/versions/r1.15/api_docs/python/tf/constant'>tensor constants</a>, which are added to your graph. For example, `tft.min` computes the minimum of a tensor over the training dataset.\n",
    "\n",
    "*Caution: When you apply your preprocessing function to serving inferences, the constants that were created by analyzers during training do not change.  If your data has trend or seasonality components, plan accordingly.*\n",
    "\n",
    "You can see available functions to transform your data [here](https://www.tensorflow.org/tfx/transform/api_docs/python/tft)."
   ]
  },
  {
   "cell_type": "code",
   "execution_count": null,
   "id": "3a575678-6a7c-4569-9b1d-5d307fd8888b",
   "metadata": {},
   "outputs": [],
   "source": [
    "def preprocessing_fn(inputs):\n",
    "    \"\"\"Preprocess input columns into transformed columns.\"\"\"\n",
    "    \n",
    "    # extract the columns and assign to local variables\n",
    "    x = inputs['x']\n",
    "    y = inputs['y']\n",
    "    s = inputs['s']\n",
    "    \n",
    "    # data transformations using tft functions\n",
    "    x_centered = x - tft.mean(x)\n",
    "    y_normalized = tft.scale_to_0_1(y)\n",
    "    s_integerized = tft.compute_and_apply_vocabulary(s)\n",
    "    x_centered_times_y_normalized = (x_centered * y_normalized)\n",
    "    \n",
    "    # return the transformed data\n",
    "    return {\n",
    "        'x_centered': x_centered,\n",
    "        'y_normalized': y_normalized,\n",
    "        's_integerized': s_integerized,\n",
    "        'x_centered_times_y_normalized': x_centered_times_y_normalized,\n",
    "    }"
   ]
  },
  {
   "cell_type": "markdown",
   "id": "298ddcce-fce5-4bd7-ba0c-41369b1e959e",
   "metadata": {},
   "source": [
    "## Generate a constant graph with the required transformations\n",
    "\n",
    "Now you're ready to put everything together and transform your data. Like TFDV last week, Tensorflow Transform also uses [Apache Beam](https://beam.apache.org/) for deployment scalability and flexibility. As you'll see below, Beam uses the pipe (`|`) operator to stack the different stages of the pipeline. In this case, you will just feed the data (and metadata) to the [AnalyzeAndTransformDataset](https://www.tensorflow.org/tfx/transform/api_docs/python/tft_beam/AnalyzeAndTransformDataset) class and use the preprocessing function you defined above to transform the data.\n",
    "\n",
    "For a closer look at Beam syntax for tranform pipelines, you can refer to the documentation [here](https://beam.apache.org/documentation/programming-guide/#applying-transforms).\n",
    "\n",
    "*Note: You can safely ignore the warning about unparseable args shown after running the cell below.*"
   ]
  },
  {
   "cell_type": "markdown",
   "id": "2d641409-ab1d-4eec-a5e4-fb07904cd1cb",
   "metadata": {},
   "source": [
    "# Ignore the warnings\n",
    "tf.get_logger().setLevel('ERROR')\n",
    "\n",
    "# a temporary directory is needed when analyzing the data\n",
    "with tft_beam.Context(temp_dir=tempfile.mkdtemp()):\n",
    "    \n",
    "    # define the pipeline using Apache Beam syntax\n",
    "    transformed_dataset, transform_fn = (\n",
    "        \n",
    "        # analyze and transform the dataset using the preprocessing function\n",
    "        (raw_data, raw_data_metadata) | tft_beam.AnalyzeAndTransformDataset(\n",
    "            preprocessing_fn)\n",
    "    )\n",
    "\n",
    "# unpack the transformed dataset\n",
    "transformed_data, transformed_metadata = transformed_dataset\n",
    "\n",
    "# print the results\n",
    "print('\\nRaw data:\\n{}\\n'.format(pprint.pformat(raw_data)))\n",
    "print('Transformed data:\\n{}'.format(pprint.pformat(transformed_data)))"
   ]
  }
 ],
 "metadata": {
  "kernelspec": {
   "display_name": "Python 3",
   "language": "python",
   "name": "python3"
  },
  "language_info": {
   "codemirror_mode": {
    "name": "ipython",
    "version": 3
   },
   "file_extension": ".py",
   "mimetype": "text/x-python",
   "name": "python",
   "nbconvert_exporter": "python",
   "pygments_lexer": "ipython3",
   "version": "3.7.11"
  }
 },
 "nbformat": 4,
 "nbformat_minor": 5
}
