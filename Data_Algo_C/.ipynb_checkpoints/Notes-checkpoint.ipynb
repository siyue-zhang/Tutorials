{
 "cells": [
  {
   "cell_type": "markdown",
   "id": "18229e6f",
   "metadata": {},
   "source": [
    "# Udemy Notes \n",
    "< Mastering Data Structures & Algorithms using C and C++ >"
   ]
  },
  {
   "cell_type": "markdown",
   "id": "a9eff832",
   "metadata": {},
   "source": [
    "<pre>\n",
    "Data Structures\n",
    "    ├── Physical Data Structures (how data is arranged in the memory)\n",
    "    │   ├── Arrays\n",
    "    │   ├── Matrices\n",
    "    │   └── Linked List\n",
    "    │   \n",
    "    └── Logical Data Structures (how data should be ustilized)  \n",
    "        ├── Stack\n",
    "        ├── Queue\n",
    "        ├── Tree\n",
    "        ├── Graph\n",
    "        └── Hashing\n",
    "</pre>"
   ]
  },
  {
   "cell_type": "markdown",
   "id": "b847daae",
   "metadata": {},
   "source": [
    "<pre>\n",
    "Main Memory\n",
    "    ├── Stack \n",
    "    │   ├── Values created by Main()\n",
    "    │   ├── Pointer \n",
    "    │ \n",
    "    │     \n",
    "    ├── Heap (program not directly accesses Heap)\n",
    "    │   ├── Arrays\n",
    "    │\n",
    "    │\n",
    "    └── Code\n",
    "         ├── Main()\n",
    "\n",
    "</pre>"
   ]
  },
  {
   "cell_type": "markdown",
   "id": "705f86bd",
   "metadata": {},
   "source": [
    "Character takes 1 byte.\n",
    "\n"
   ]
  },
  {
   "cell_type": "markdown",
   "id": "c6168ce9",
   "metadata": {},
   "source": [
    "### Pointer\n",
    "\n",
    "Pointer is an address variable to store the address of data, for indirectly accessing the data.\n",
    "Purpose of pointer:\n",
    "* Access the heap memory, which is not directly accessible for the program\n",
    "* Access resources: hard disk files, key board, monitor...\n",
    "* Pass parameter"
   ]
  },
  {
   "cell_type": "markdown",
   "id": "d6a64402",
   "metadata": {},
   "source": [
    "### CPP\n",
    "\n",
    "1. function\n",
    "2. method\n",
    "3. static method\n",
    "4. constructor\n",
    "\n",
    "method = function in an object <br>\n",
    "method is attached to an object / static method is attached to a class <br>\n",
    "constructor is used when creating a class, no return\n",
    "\n",
    "\n",
    "Unique function: determined by function name & argument type, return type is not considered\n",
    "\n",
    "- double area(int length)\n",
    "- double area(int length, int witdth)\n",
    "- double area(Rectangle rec)\n",
    "\n",
    "### Project file structure\n",
    "\n",
    "1. Header file (declaration) .h\n",
    "2. Implementation fie (definition) .cpp\n",
    "3. Main file (calling) .cpp\n"
   ]
  },
  {
   "cell_type": "markdown",
   "id": "6cdbce10",
   "metadata": {},
   "source": [
    "### Compilation\n",
    "\n",
    "minimize the compilation necessary <br>\n",
    "file1.cpp -> file1.o <br>\n",
    "file2.cpp -> file2.o <br>     \n",
    "-> a.out <br>\n",
    "make file defines the dependence\n"
   ]
  },
  {
   "cell_type": "markdown",
   "id": "16d5d410",
   "metadata": {},
   "source": [
    "**makefile** example:\n",
    "\n",
    "math: math_stuff.o math_utils.o<br>\n",
    "&nbsp; &nbsp; &nbsp; &nbsp; &nbsp; g++ math_stuff.o math_utils.o -o math\n",
    "    \n",
    "math_stuff.o: math_stuff.cpp<br>\n",
    "&nbsp; &nbsp; &nbsp; &nbsp; g++ -c math_stuff.cpp\n",
    "    \n",
    "math_utils.o: math_utils.cpp<br>\n",
    "&nbsp; &nbsp; &nbsp; &nbsp; g++ -c math_utils.cpp\n",
    "    \n",
    "clean:<br>\n",
    "&nbsp; &nbsp; &nbsp; &nbsp; rm *.o math"
   ]
  },
  {
   "cell_type": "markdown",
   "id": "afc4804a",
   "metadata": {},
   "source": [
    "### Templatized function\n",
    "\n",
    "template < typename T >\n",
    "\n",
    "\n",
    "### Object oriented programming (OOP)\n",
    "\n",
    "struct: small structure, plain data only (PODS) <br>\n",
    "class: large structure\n",
    "\n",
    "class members:\n",
    "* public\n",
    "* private: only accessible during initialization\n",
    "* protected: inherited\n",
    "\n",
    "struct members by default public <br>\n",
    "class members by default private\n",
    "\n"
   ]
  },
  {
   "cell_type": "code",
   "execution_count": null,
   "id": "3f6ea50a",
   "metadata": {},
   "outputs": [],
   "source": []
  },
  {
   "cell_type": "code",
   "execution_count": null,
   "id": "e3316a7f",
   "metadata": {},
   "outputs": [],
   "source": []
  }
 ],
 "metadata": {
  "kernelspec": {
   "display_name": "Python 3 (ipykernel)",
   "language": "python",
   "name": "python3"
  },
  "language_info": {
   "codemirror_mode": {
    "name": "ipython",
    "version": 3
   },
   "file_extension": ".py",
   "mimetype": "text/x-python",
   "name": "python",
   "nbconvert_exporter": "python",
   "pygments_lexer": "ipython3",
   "version": "3.7.3"
  }
 },
 "nbformat": 4,
 "nbformat_minor": 5
}
