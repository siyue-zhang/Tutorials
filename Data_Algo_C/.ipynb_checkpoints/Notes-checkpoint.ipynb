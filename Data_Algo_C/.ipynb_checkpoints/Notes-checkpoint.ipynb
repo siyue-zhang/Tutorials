{
 "cells": [
  {
   "cell_type": "markdown",
   "id": "18229e6f",
   "metadata": {},
   "source": [
    "# Udemy Notes \n",
    "< Mastering Data Structures & Algorithms using C and C++ >"
   ]
  },
  {
   "cell_type": "markdown",
   "id": "a9eff832",
   "metadata": {},
   "source": [
    "<pre>\n",
    "Data Structures\n",
    "    ├── Physical Data Structures (how data is arranged in the memory)\n",
    "    │   ├── Arrays\n",
    "    │   ├── Matrices\n",
    "    │   └── Linked List\n",
    "    │   \n",
    "    └── Logical Data Structures (how data should be ustilized)  \n",
    "        ├── Stack\n",
    "        ├── Queue\n",
    "        ├── Tree\n",
    "        ├── Graph\n",
    "        └── Hashing\n",
    "</pre>"
   ]
  },
  {
   "cell_type": "code",
   "execution_count": null,
   "id": "e65b336f",
   "metadata": {},
   "outputs": [],
   "source": []
  }
 ],
 "metadata": {
  "kernelspec": {
   "display_name": "Python 3 (ipykernel)",
   "language": "python",
   "name": "python3"
  },
  "language_info": {
   "codemirror_mode": {
    "name": "ipython",
    "version": 3
   },
   "file_extension": ".py",
   "mimetype": "text/x-python",
   "name": "python",
   "nbconvert_exporter": "python",
   "pygments_lexer": "ipython3",
   "version": "3.7.3"
  }
 },
 "nbformat": 4,
 "nbformat_minor": 5
}
