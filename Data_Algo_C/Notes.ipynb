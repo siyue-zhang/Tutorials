{
 "cells": [
  {
   "cell_type": "markdown",
   "id": "18229e6f",
   "metadata": {},
   "source": [
    "# Udemy Notes \n",
    "< Mastering Data Structures & Algorithms using C and C++ >"
   ]
  },
  {
   "cell_type": "markdown",
   "id": "a9eff832",
   "metadata": {},
   "source": [
    "<pre>\n",
    "Data Structures\n",
    "    ├── Physical Data Structures (how data is arranged in the memory)\n",
    "    │   ├── Arrays\n",
    "    │   ├── Matrices\n",
    "    │   └── Linked List\n",
    "    │   \n",
    "    └── Logical Data Structures (how data should be ustilized)  \n",
    "        ├── Stack\n",
    "        ├── Queue\n",
    "        ├── Tree\n",
    "        ├── Graph\n",
    "        └── Hashing\n",
    "</pre>"
   ]
  },
  {
   "cell_type": "markdown",
   "id": "b847daae",
   "metadata": {},
   "source": [
    "<pre>\n",
    "Main Memory\n",
    "    ├── Stack \n",
    "    │   ├── Values created by Main()\n",
    "    │   ├── Pointer \n",
    "    │ \n",
    "    │     \n",
    "    ├── Heap (program not directly accesses Heap)\n",
    "    │   ├── Arrays\n",
    "    │\n",
    "    │\n",
    "    └── Code\n",
    "         ├── Main()\n",
    "\n",
    "</pre>"
   ]
  },
  {
   "cell_type": "markdown",
   "id": "705f86bd",
   "metadata": {},
   "source": [
    "* Character takes 1 byte.\n",
    "* Every variable decleared will be in Stack.\n"
   ]
  },
  {
   "cell_type": "markdown",
   "id": "c6168ce9",
   "metadata": {},
   "source": [
    "### Pointer\n",
    "\n",
    "Pointer is an address variable to store the address of data, for indirectly accessing the data.\n",
    "Purpose of pointer:\n",
    "* Access the heap memory, which is not directly accessible for the program\n",
    "* Access resources: hard disk files, key board, monitor...\n",
    "* Pass parameter"
   ]
  },
  {
   "cell_type": "markdown",
   "id": "d6a64402",
   "metadata": {},
   "source": [
    "### CPP\n",
    "\n",
    "1. function\n",
    "2. method\n",
    "3. static method\n",
    "4. constructor\n",
    "\n",
    "method = function in an object <br>\n",
    "method is attached to an object / static method is attached to a class <br>\n",
    "constructor is used when creating a class, no return\n",
    "\n",
    "\n",
    "Unique function: determined by function name & argument type, return type is not considered\n",
    "\n",
    "- double area(int length)\n",
    "- double area(int length, int witdth)\n",
    "- double area(Rectangle rec)\n",
    "\n",
    "### Project file structure\n",
    "\n",
    "1. Header file (declaration) .h\n",
    "2. Implementation fie (definition) .cpp\n",
    "3. Main file (calling) .cpp\n"
   ]
  },
  {
   "cell_type": "markdown",
   "id": "6cdbce10",
   "metadata": {},
   "source": [
    "### Compilation\n",
    "\n",
    "minimize the compilation necessary <br>\n",
    "file1.cpp -> file1.o <br>\n",
    "file2.cpp -> file2.o <br>     \n",
    "-> a.out <br>\n",
    "make file defines the dependence\n"
   ]
  },
  {
   "cell_type": "markdown",
   "id": "16d5d410",
   "metadata": {},
   "source": [
    "**makefile** example:\n",
    "\n",
    "math: math_stuff.o math_utils.o<br>\n",
    "&nbsp; &nbsp; &nbsp; &nbsp; &nbsp; g++ math_stuff.o math_utils.o -o math\n",
    "    \n",
    "math_stuff.o: math_stuff.cpp<br>\n",
    "&nbsp; &nbsp; &nbsp; &nbsp; g++ -c math_stuff.cpp\n",
    "    \n",
    "math_utils.o: math_utils.cpp<br>\n",
    "&nbsp; &nbsp; &nbsp; &nbsp; g++ -c math_utils.cpp\n",
    "    \n",
    "clean:<br>\n",
    "&nbsp; &nbsp; &nbsp; &nbsp; rm *.o math"
   ]
  },
  {
   "cell_type": "markdown",
   "id": "afc4804a",
   "metadata": {},
   "source": [
    "### Templatized function\n",
    "\n",
    "template < typename T >\n",
    "\n",
    "\n",
    "### Object oriented programming (OOP)\n",
    "\n",
    "struct: small structure, plain data only (PODS) <br>\n",
    "class: large structure\n",
    "\n",
    "class members:\n",
    "* public\n",
    "* private: only accessible during initialization\n",
    "* protected: inherited\n",
    "\n",
    "struct members by default public <br>\n",
    "class members by default private\n",
    "\n"
   ]
  },
  {
   "cell_type": "markdown",
   "id": "2775f183",
   "metadata": {},
   "source": [
    "### String C++\n",
    "\n",
    "`string.substr (size_t pos = 0, size_t len = npos)`\n",
    "\n",
    "`string.back()`, `string.pop_back()`, `string.front()`\n",
    "\n",
    "`string& erase (size_t pos = 0, size_t len = npos)`\n"
   ]
  },
  {
   "cell_type": "markdown",
   "id": "42ef80d4",
   "metadata": {},
   "source": [
    "### Map C++\n",
    "\n",
    "std::map<type1, type2> <br>\n",
    "- type1: key type\n",
    "- type2: value type\n",
    "\n",
    "Map stores key value pair in sorted order on the basis of key (ascending/descending).\n",
    "\n",
    "When key type is not inbuilt data type, obj1 == obj2 needs to be defined.\n",
    "\n",
    "`Map.insert[std::make_pair(\"Bot\", 78748493)]`\n",
    "\n",
    "Existing key value can not be modified.\n",
    "\n",
    "Create a map<br>\n",
    "`std::map<std::string, int> Map;\n",
    "Map[\"Apple\"] = 12;\n",
    "Map.insert(std::make_pair(\"Banana\", 33));`\n",
    "\n",
    "Loop the map<br>\n",
    "`for(auto &pair : Map) {std::cout<< pair.first << \" \" << pair.second << std::endl;}`\n",
    "\n",
    "Descending<br>\n",
    "`std::map<std::string, int, std::greater<>> Map;`\n",
    "\n",
    "Vector as value<br>\n",
    "`std::map<std::string, vector<int>> Map;\n",
    "Map[\"Apple\"].push_back(12213);`\n",
    "\n",
    "\n",
    "**Multimap**\n",
    "\n",
    "Multimap allows same keys, sorts the keys. <br>\n",
    "`.erase()` removes all pairs with the target key."
   ]
  },
  {
   "cell_type": "markdown",
   "id": "fe337758",
   "metadata": {},
   "source": [
    "## Pointer\n",
    "\n",
    "`#include <stdlib.h>`\n",
    "\n",
    "`int *p;`\n",
    "\n",
    "`p=(int *)malloc(5*sizeof(int));` Pointer to heap memory, C\n",
    "\n",
    "`p=new int[5];` C++, new: memory in heap\n",
    "\n",
    "`p[0]=10;`\n",
    "\n",
    "`delete [] p;` Array, must add [ ], release memeory, C++\n",
    "\n",
    "`free(p);` C\n",
    "\n",
    "Every pointer takes 8 bytes\n"
   ]
  },
  {
   "cell_type": "markdown",
   "id": "28c145e1",
   "metadata": {},
   "source": [
    "### Reference \n",
    "\n",
    "only in C++\n",
    "\n",
    "`int *p;` # pointer\n",
    "\n",
    "`int &p;` # reference\n",
    "\n",
    "`int &r = a;` # a has another name: r\n",
    "\n",
    "Used for parameter passing\n",
    "\n",
    "Reference must be initialized when declearing. Once initialized, it can't be changed.\n",
    "\n"
   ]
  },
  {
   "cell_type": "markdown",
   "id": "e10589bb",
   "metadata": {},
   "source": [
    "`struct Rectangle r = {10, 5};`\n",
    "\n",
    "`struct Rectangle *p = &r;`\n",
    "\n",
    "normal variable: `r.length = 15;`\n",
    "\n",
    "pointer variable: `(*)p.length = 15;` or `p -> length = 15;`"
   ]
  },
  {
   "cell_type": "markdown",
   "id": "d5e27d80",
   "metadata": {},
   "source": [
    "### Dynamic object creation in heap\n",
    "\n",
    "`struct Rectangle *p;`\n",
    "\n",
    "`p = (struct Rectangle *)malloc(sizeof(struct Rectangle));` C syntax\n",
    "\n",
    "`p = new Rectangle;` C++ syntax\n",
    "\n",
    "`p -> length = 15;`\n",
    "\n",
    "`p -> height = 10;`\n",
    "\n",
    "In cpp, struct is not mandatory."
   ]
  },
  {
   "cell_type": "markdown",
   "id": "74e6453e",
   "metadata": {},
   "source": [
    "## Functions\n",
    "\n",
    "Formal parameters in Function Definition\n",
    "\n",
    "Actual parameters in Calling Function\n",
    "\n",
    "### Parameter passing\n",
    "\n",
    "1. Pass by value\n",
    "2. Pass by pointer\n",
    "3. Pass by reference (cpp only)\n",
    "\n",
    "<img src=\"./images/pass_reference.png\" width=\"800\"/>\n",
    "\n",
    "Array can be past only by address. \n",
    "\n",
    "`function (int A[], int n) { }` address of array, size of array\n",
    "\n",
    "`function (int *A, int n) { }` general method\n",
    "\n",
    "`int * function(int n)` a function which returns a pointer\n",
    "\n",
    "Array: `int A[]={2, 5, 7, 10};`\n",
    "\n",
    "<img src=\"./images/return_ptr.png\" width=\"400\"/>\n"
   ]
  },
  {
   "cell_type": "code",
   "execution_count": null,
   "id": "9c50a7c7",
   "metadata": {},
   "outputs": [],
   "source": []
  }
 ],
 "metadata": {
  "kernelspec": {
   "display_name": "Python 3 (ipykernel)",
   "language": "python",
   "name": "python3"
  },
  "language_info": {
   "codemirror_mode": {
    "name": "ipython",
    "version": 3
   },
   "file_extension": ".py",
   "mimetype": "text/x-python",
   "name": "python",
   "nbconvert_exporter": "python",
   "pygments_lexer": "ipython3",
   "version": "3.7.3"
  }
 },
 "nbformat": 4,
 "nbformat_minor": 5
}
