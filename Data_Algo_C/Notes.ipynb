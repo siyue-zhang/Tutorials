{
 "cells": [
  {
   "cell_type": "markdown",
   "id": "18229e6f",
   "metadata": {},
   "source": [
    "# Udemy Notes \n",
    "< Mastering Data Structures & Algorithms using C and C++ >"
   ]
  },
  {
   "cell_type": "markdown",
   "id": "a9eff832",
   "metadata": {},
   "source": [
    "<pre>\n",
    "Data Structures\n",
    "    ├── Physical Data Structures (how data is arranged in the memory)\n",
    "    │   ├── Arrays\n",
    "    │   ├── Matrices\n",
    "    │   └── Linked List\n",
    "    │   \n",
    "    └── Logical Data Structures (how data should be ustilized)  \n",
    "        ├── Stack\n",
    "        ├── Queue\n",
    "        ├── Tree\n",
    "        ├── Graph\n",
    "        └── Hashing\n",
    "</pre>"
   ]
  },
  {
   "cell_type": "markdown",
   "id": "b847daae",
   "metadata": {},
   "source": [
    "<pre>\n",
    "Main Memory\n",
    "    ├── Stack \n",
    "    │   ├── Values created by Main()\n",
    "    │   ├── Pointer \n",
    "    │ \n",
    "    │     \n",
    "    ├── Heap (program not directly accesses Heap)\n",
    "    │   ├── Arrays\n",
    "    │\n",
    "    │\n",
    "    └── Code\n",
    "         ├── Main()\n",
    "\n",
    "</pre>"
   ]
  },
  {
   "cell_type": "markdown",
   "id": "705f86bd",
   "metadata": {},
   "source": [
    "Character takes 1 byte.\n",
    "\n"
   ]
  },
  {
   "cell_type": "markdown",
   "id": "c6168ce9",
   "metadata": {},
   "source": [
    "### Pointer\n",
    "\n",
    "Pointer is an address variable to store the address of data, for indirectly accessing the data.\n",
    "Purpose of pointer:\n",
    "* Access the heap memory, which is not directly accessible for the program\n",
    "* Access resources: hard disk files, key board, monitor...\n",
    "* Pass parameter"
   ]
  },
  {
   "cell_type": "code",
   "execution_count": null,
   "id": "9335a721",
   "metadata": {},
   "outputs": [],
   "source": []
  }
 ],
 "metadata": {
  "kernelspec": {
   "display_name": "Python 3 (ipykernel)",
   "language": "python",
   "name": "python3"
  },
  "language_info": {
   "codemirror_mode": {
    "name": "ipython",
    "version": 3
   },
   "file_extension": ".py",
   "mimetype": "text/x-python",
   "name": "python",
   "nbconvert_exporter": "python",
   "pygments_lexer": "ipython3",
   "version": "3.7.3"
  }
 },
 "nbformat": 4,
 "nbformat_minor": 5
}
